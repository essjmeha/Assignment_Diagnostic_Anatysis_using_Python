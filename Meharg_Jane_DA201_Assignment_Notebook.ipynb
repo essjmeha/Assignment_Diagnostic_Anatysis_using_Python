{
 "cells": [
  {
   "cell_type": "markdown",
   "id": "eb92d5a7",
   "metadata": {},
   "source": [
    "### LSE Data Analytics Online Career Accelerator\n",
    "\n",
    "# Course 2: Data Analytics using Python"
   ]
  },
  {
   "cell_type": "markdown",
   "id": "0ea7e113",
   "metadata": {},
   "source": [
    "## Assignment: Diagnostic Analysis using Python\n",
    "\n",
    "You’ll be working with real-world data to address a problem faced by the National Health Service (NHS). The analysis will require you to utilise Python to explore the available data, create visualisations to identify trends, and extract meaningful insights to inform decision-making. "
   ]
  },
  {
   "cell_type": "markdown",
   "id": "bce4b767",
   "metadata": {},
   "source": [
    "### A note for students using this template\n",
    "This Jupyter Notebook is a template you can use to complete the Course 2 assignment: Diagnostic Analysis using Python. \n",
    "\n",
    "Keep in mind: \n",
    "- You are **not required** to use this template to complete the assignment. \n",
    "- If you decide to use this template for your assignment, make a copy of the notebook and save it using the assignment naming convention: **LastName_FirstName_DA201_Assignment_Notebook.ipynb**.\n",
    "- The workflow suggested in this template follows the Assignment Activities throughout the course.\n",
    "- Refer to the guidance on the Assignment Activity pages for specific details. \n",
    "- The markup and comments in this template identify the key elements you need to complete before submitting the assignment.\n",
    "- Make this notebook your own by adding your process notes and rationale using markdown, add links, screenshots, or images to support your analysis, refine or clarify the comments, and change the workflow to suit your process.\n",
    "- All elements should be functional and visible in your Notebook. \n",
    "- Be sure to push your notebook to GitHub after completing each Assignment Activity.\n",
    "\n",
    " > ***Markdown*** Remember to change cell types to `Markdown`. You can review [Markdown basics](https://docs.github.com/en/get-started/writing-on-github/getting-started-with-writing-and-formatting-on-github/basic-writing-and-formatting-syntax) to find out how to add formatted text, links, and images to your notebook."
   ]
  },
  {
   "cell_type": "markdown",
   "id": "ef6d24b2",
   "metadata": {},
   "source": [
    "# "
   ]
  },
  {
   "cell_type": "markdown",
   "id": "0834b036",
   "metadata": {},
   "source": [
    "# Assignment activity 1"
   ]
  },
  {
   "cell_type": "markdown",
   "id": "8b40c558",
   "metadata": {},
   "source": [
    "### Insert proof of your GitHub repository. This can be a link or screenshot showing your repo."
   ]
  },
  {
   "cell_type": "code",
   "execution_count": null,
   "id": "984dc1db",
   "metadata": {},
   "outputs": [],
   "source": [
    "# My GitHub repository.\n",
    "https://github.com/essjmeha/Assignment_Diagnostic_Anatysis_using_Python    "
   ]
  },
  {
   "cell_type": "markdown",
   "id": "af0f600f",
   "metadata": {},
   "source": [
    "# "
   ]
  },
  {
   "cell_type": "markdown",
   "id": "c010a760",
   "metadata": {},
   "source": [
    "# Assignment activity 2"
   ]
  },
  {
   "cell_type": "markdown",
   "id": "550d4c5b",
   "metadata": {},
   "source": [
    "### Prepare your workstation"
   ]
  },
  {
   "cell_type": "code",
   "execution_count": 1,
   "id": "ef565e11",
   "metadata": {},
   "outputs": [],
   "source": [
    "# Import the necessary libraries.\n",
    "import pandas as pd\n",
    "import numpy as np\n",
    "\n",
    "# Optional - Ignore warnings.\n",
    "import warnings\n",
    "warnings.filterwarnings('ignore')"
   ]
  },
  {
   "cell_type": "code",
   "execution_count": 2,
   "id": "624d89f2",
   "metadata": {},
   "outputs": [
    {
     "name": "stdout",
     "output_type": "stream",
     "text": [
      "(137793, 8)\n",
      "Index(['sub_icb_location_code', 'sub_icb_location_ons_code',\n",
      "       'sub_icb_location_name', 'icb_ons_code', 'region_ons_code',\n",
      "       'appointment_date', 'actual_duration', 'count_of_appointments'],\n",
      "      dtype='object')\n",
      "<bound method NDFrame.head of        sub_icb_location_code sub_icb_location_ons_code  \\\n",
      "0                        00L                 E38000130   \n",
      "1                        00L                 E38000130   \n",
      "2                        00L                 E38000130   \n",
      "3                        00L                 E38000130   \n",
      "4                        00L                 E38000130   \n",
      "...                      ...                       ...   \n",
      "137788                 X2C4Y                 E38000254   \n",
      "137789                 X2C4Y                 E38000254   \n",
      "137790                 X2C4Y                 E38000254   \n",
      "137791                 X2C4Y                 E38000254   \n",
      "137792                 X2C4Y                 E38000254   \n",
      "\n",
      "                             sub_icb_location_name icb_ons_code  \\\n",
      "0       NHS North East and North Cumbria ICB - 00L    E54000050   \n",
      "1       NHS North East and North Cumbria ICB - 00L    E54000050   \n",
      "2       NHS North East and North Cumbria ICB - 00L    E54000050   \n",
      "3       NHS North East and North Cumbria ICB - 00L    E54000050   \n",
      "4       NHS North East and North Cumbria ICB - 00L    E54000050   \n",
      "...                                            ...          ...   \n",
      "137788              NHS West Yorkshire ICB - X2C4Y    E54000054   \n",
      "137789              NHS West Yorkshire ICB - X2C4Y    E54000054   \n",
      "137790              NHS West Yorkshire ICB - X2C4Y    E54000054   \n",
      "137791              NHS West Yorkshire ICB - X2C4Y    E54000054   \n",
      "137792              NHS West Yorkshire ICB - X2C4Y    E54000054   \n",
      "\n",
      "       region_ons_code appointment_date         actual_duration  \\\n",
      "0            E40000012        01-Dec-21           31-60 Minutes   \n",
      "1            E40000012        01-Dec-21           21-30 Minutes   \n",
      "2            E40000012        01-Dec-21            6-10 Minutes   \n",
      "3            E40000012        01-Dec-21  Unknown / Data Quality   \n",
      "4            E40000012        01-Dec-21           16-20 Minutes   \n",
      "...                ...              ...                     ...   \n",
      "137788       E40000012        30-Jun-22           31-60 Minutes   \n",
      "137789       E40000012        30-Jun-22           21-30 Minutes   \n",
      "137790       E40000012        30-Jun-22           16-20 Minutes   \n",
      "137791       E40000012        30-Jun-22           11-15 Minutes   \n",
      "137792       E40000012        30-Jun-22             1-5 Minutes   \n",
      "\n",
      "        count_of_appointments  \n",
      "0                         364  \n",
      "1                         619  \n",
      "2                        1698  \n",
      "3                        1277  \n",
      "4                         730  \n",
      "...                       ...  \n",
      "137788                    430  \n",
      "137789                    751  \n",
      "137790                    921  \n",
      "137791                   1439  \n",
      "137792                   1739  \n",
      "\n",
      "[137793 rows x 8 columns]>\n"
     ]
    }
   ],
   "source": [
    "# Import and sense-check the actual_duration.csv data set as ad.\n",
    "ad = pd.read_csv('actual_duration.csv')\n",
    "\n",
    "# View the DataFrame.\n",
    "print(ad.shape)\n",
    "print(ad.columns)\n",
    "print(ad.head)"
   ]
  },
  {
   "cell_type": "code",
   "execution_count": 3,
   "id": "f694cd9d",
   "metadata": {},
   "outputs": [
    {
     "data": {
      "text/plain": [
       "0"
      ]
     },
     "execution_count": 3,
     "metadata": {},
     "output_type": "execute_result"
    }
   ],
   "source": [
    "# Determine whether there are missing values.\n",
    "# Sum of missing values.\n",
    "ad['count_of_appointments'].isnull().sum()\n"
   ]
  },
  {
   "cell_type": "code",
   "execution_count": 4,
   "id": "63b6ea76",
   "metadata": {},
   "outputs": [
    {
     "data": {
      "text/plain": [
       "(0, 8)"
      ]
     },
     "execution_count": 4,
     "metadata": {},
     "output_type": "execute_result"
    }
   ],
   "source": [
    "# Check ar DataFrame for missing values.\n",
    "ad_na = ad[ad.isna().any(axis=1)]\n",
    "ad_na.shape"
   ]
  },
  {
   "cell_type": "code",
   "execution_count": 5,
   "id": "c8fd49b5",
   "metadata": {},
   "outputs": [
    {
     "name": "stdout",
     "output_type": "stream",
     "text": [
      "<class 'pandas.core.frame.DataFrame'>\n",
      "RangeIndex: 137793 entries, 0 to 137792\n",
      "Data columns (total 8 columns):\n",
      " #   Column                     Non-Null Count   Dtype \n",
      "---  ------                     --------------   ----- \n",
      " 0   sub_icb_location_code      137793 non-null  object\n",
      " 1   sub_icb_location_ons_code  137793 non-null  object\n",
      " 2   sub_icb_location_name      137793 non-null  object\n",
      " 3   icb_ons_code               137793 non-null  object\n",
      " 4   region_ons_code            137793 non-null  object\n",
      " 5   appointment_date           137793 non-null  object\n",
      " 6   actual_duration            137793 non-null  object\n",
      " 7   count_of_appointments      137793 non-null  int64 \n",
      "dtypes: int64(1), object(7)\n",
      "memory usage: 8.4+ MB\n"
     ]
    }
   ],
   "source": [
    "# Determine the metadata of the data set.\n",
    "ad.info()"
   ]
  },
  {
   "cell_type": "code",
   "execution_count": 6,
   "id": "9fa13562",
   "metadata": {},
   "outputs": [
    {
     "data": {
      "text/html": [
       "<div>\n",
       "<style scoped>\n",
       "    .dataframe tbody tr th:only-of-type {\n",
       "        vertical-align: middle;\n",
       "    }\n",
       "\n",
       "    .dataframe tbody tr th {\n",
       "        vertical-align: top;\n",
       "    }\n",
       "\n",
       "    .dataframe thead th {\n",
       "        text-align: right;\n",
       "    }\n",
       "</style>\n",
       "<table border=\"1\" class=\"dataframe\">\n",
       "  <thead>\n",
       "    <tr style=\"text-align: right;\">\n",
       "      <th></th>\n",
       "      <th>count_of_appointments</th>\n",
       "    </tr>\n",
       "  </thead>\n",
       "  <tbody>\n",
       "    <tr>\n",
       "      <th>count</th>\n",
       "      <td>137793.000000</td>\n",
       "    </tr>\n",
       "    <tr>\n",
       "      <th>mean</th>\n",
       "      <td>1219.080011</td>\n",
       "    </tr>\n",
       "    <tr>\n",
       "      <th>std</th>\n",
       "      <td>1546.902956</td>\n",
       "    </tr>\n",
       "    <tr>\n",
       "      <th>min</th>\n",
       "      <td>1.000000</td>\n",
       "    </tr>\n",
       "    <tr>\n",
       "      <th>25%</th>\n",
       "      <td>194.000000</td>\n",
       "    </tr>\n",
       "    <tr>\n",
       "      <th>50%</th>\n",
       "      <td>696.000000</td>\n",
       "    </tr>\n",
       "    <tr>\n",
       "      <th>75%</th>\n",
       "      <td>1621.000000</td>\n",
       "    </tr>\n",
       "    <tr>\n",
       "      <th>max</th>\n",
       "      <td>15400.000000</td>\n",
       "    </tr>\n",
       "  </tbody>\n",
       "</table>\n",
       "</div>"
      ],
      "text/plain": [
       "       count_of_appointments\n",
       "count          137793.000000\n",
       "mean             1219.080011\n",
       "std              1546.902956\n",
       "min                 1.000000\n",
       "25%               194.000000\n",
       "50%               696.000000\n",
       "75%              1621.000000\n",
       "max             15400.000000"
      ]
     },
     "execution_count": 6,
     "metadata": {},
     "output_type": "execute_result"
    }
   ],
   "source": [
    "# Determine the descriptive statistics of the data set.\n",
    "ad.describe()\n"
   ]
  },
  {
   "cell_type": "code",
   "execution_count": 7,
   "id": "f2dfbc7b",
   "metadata": {},
   "outputs": [
    {
     "name": "stdout",
     "output_type": "stream",
     "text": [
      "(596821, 7)\n",
      "Index(['icb_ons_code', 'appointment_month', 'appointment_status', 'hcp_type',\n",
      "       'appointment_mode', 'time_between_book_and_appointment',\n",
      "       'count_of_appointments'],\n",
      "      dtype='object')\n",
      "<bound method NDFrame.head of        icb_ons_code appointment_month appointment_status hcp_type  \\\n",
      "0         E54000034           2020-01           Attended       GP   \n",
      "1         E54000034           2020-01           Attended       GP   \n",
      "2         E54000034           2020-01           Attended       GP   \n",
      "3         E54000034           2020-01           Attended       GP   \n",
      "4         E54000034           2020-01           Attended       GP   \n",
      "...             ...               ...                ...      ...   \n",
      "596816    E54000050           2022-06            Unknown  Unknown   \n",
      "596817    E54000050           2022-06            Unknown  Unknown   \n",
      "596818    E54000050           2022-06            Unknown  Unknown   \n",
      "596819    E54000050           2022-06            Unknown  Unknown   \n",
      "596820    E54000050           2022-06            Unknown  Unknown   \n",
      "\n",
      "       appointment_mode time_between_book_and_appointment  \\\n",
      "0          Face-to-Face                             1 Day   \n",
      "1          Face-to-Face                    15  to 21 Days   \n",
      "2          Face-to-Face                       2 to 7 Days   \n",
      "3          Face-to-Face                    22  to 28 Days   \n",
      "4          Face-to-Face                     8  to 14 Days   \n",
      "...                 ...                               ...   \n",
      "596816          Unknown                       2 to 7 Days   \n",
      "596817          Unknown                    22  to 28 Days   \n",
      "596818          Unknown                     8  to 14 Days   \n",
      "596819          Unknown                 More than 28 Days   \n",
      "596820          Unknown                          Same Day   \n",
      "\n",
      "        count_of_appointments  \n",
      "0                        8107  \n",
      "1                        6791  \n",
      "2                       20686  \n",
      "3                        4268  \n",
      "4                       11971  \n",
      "...                       ...  \n",
      "596816                     21  \n",
      "596817                      8  \n",
      "596818                     28  \n",
      "596819                     17  \n",
      "596820                     10  \n",
      "\n",
      "[596821 rows x 7 columns]>\n"
     ]
    }
   ],
   "source": [
    "# Import and sense-check appointment_regional.csv data set as ar\n",
    "ar = pd.read_csv('appointments_regional.csv')\n",
    "\n",
    "# View the DataFrame.\n",
    "print(ar.shape)\n",
    "print(ar.columns)\n",
    "print(ar.head)\n"
   ]
  },
  {
   "cell_type": "code",
   "execution_count": 8,
   "id": "255823c3",
   "metadata": {},
   "outputs": [
    {
     "data": {
      "text/plain": [
       "0"
      ]
     },
     "execution_count": 8,
     "metadata": {},
     "output_type": "execute_result"
    }
   ],
   "source": [
    "# Determine whether there are missing values.\n",
    "# Sum of missing values.\n",
    "ar['count_of_appointments'].isnull().sum()"
   ]
  },
  {
   "cell_type": "code",
   "execution_count": 9,
   "id": "c129d082",
   "metadata": {},
   "outputs": [
    {
     "data": {
      "text/plain": [
       "(0, 7)"
      ]
     },
     "execution_count": 9,
     "metadata": {},
     "output_type": "execute_result"
    }
   ],
   "source": [
    "# Check ar DataFrame for missing values.\n",
    "ar_na = ar[ar.isna().any(axis=1)]\n",
    "ar_na.shape"
   ]
  },
  {
   "cell_type": "code",
   "execution_count": 10,
   "id": "1daa3556",
   "metadata": {},
   "outputs": [
    {
     "name": "stdout",
     "output_type": "stream",
     "text": [
      "<class 'pandas.core.frame.DataFrame'>\n",
      "RangeIndex: 596821 entries, 0 to 596820\n",
      "Data columns (total 7 columns):\n",
      " #   Column                             Non-Null Count   Dtype \n",
      "---  ------                             --------------   ----- \n",
      " 0   icb_ons_code                       596821 non-null  object\n",
      " 1   appointment_month                  596821 non-null  object\n",
      " 2   appointment_status                 596821 non-null  object\n",
      " 3   hcp_type                           596821 non-null  object\n",
      " 4   appointment_mode                   596821 non-null  object\n",
      " 5   time_between_book_and_appointment  596821 non-null  object\n",
      " 6   count_of_appointments              596821 non-null  int64 \n",
      "dtypes: int64(1), object(6)\n",
      "memory usage: 31.9+ MB\n"
     ]
    }
   ],
   "source": [
    "# Determine the metadata of the data set.\n",
    "ar.info()"
   ]
  },
  {
   "cell_type": "code",
   "execution_count": 11,
   "id": "3cbc4d97",
   "metadata": {},
   "outputs": [
    {
     "data": {
      "text/html": [
       "<div>\n",
       "<style scoped>\n",
       "    .dataframe tbody tr th:only-of-type {\n",
       "        vertical-align: middle;\n",
       "    }\n",
       "\n",
       "    .dataframe tbody tr th {\n",
       "        vertical-align: top;\n",
       "    }\n",
       "\n",
       "    .dataframe thead th {\n",
       "        text-align: right;\n",
       "    }\n",
       "</style>\n",
       "<table border=\"1\" class=\"dataframe\">\n",
       "  <thead>\n",
       "    <tr style=\"text-align: right;\">\n",
       "      <th></th>\n",
       "      <th>count_of_appointments</th>\n",
       "    </tr>\n",
       "  </thead>\n",
       "  <tbody>\n",
       "    <tr>\n",
       "      <th>count</th>\n",
       "      <td>596821.000000</td>\n",
       "    </tr>\n",
       "    <tr>\n",
       "      <th>mean</th>\n",
       "      <td>1244.601857</td>\n",
       "    </tr>\n",
       "    <tr>\n",
       "      <th>std</th>\n",
       "      <td>5856.887042</td>\n",
       "    </tr>\n",
       "    <tr>\n",
       "      <th>min</th>\n",
       "      <td>1.000000</td>\n",
       "    </tr>\n",
       "    <tr>\n",
       "      <th>25%</th>\n",
       "      <td>7.000000</td>\n",
       "    </tr>\n",
       "    <tr>\n",
       "      <th>50%</th>\n",
       "      <td>47.000000</td>\n",
       "    </tr>\n",
       "    <tr>\n",
       "      <th>75%</th>\n",
       "      <td>308.000000</td>\n",
       "    </tr>\n",
       "    <tr>\n",
       "      <th>max</th>\n",
       "      <td>211265.000000</td>\n",
       "    </tr>\n",
       "  </tbody>\n",
       "</table>\n",
       "</div>"
      ],
      "text/plain": [
       "       count_of_appointments\n",
       "count          596821.000000\n",
       "mean             1244.601857\n",
       "std              5856.887042\n",
       "min                 1.000000\n",
       "25%                 7.000000\n",
       "50%                47.000000\n",
       "75%               308.000000\n",
       "max            211265.000000"
      ]
     },
     "execution_count": 11,
     "metadata": {},
     "output_type": "execute_result"
    }
   ],
   "source": [
    "# Determine the descriptive statistics of the data set.\n",
    "ar.describe()\n"
   ]
  },
  {
   "cell_type": "code",
   "execution_count": 12,
   "id": "4e30305d",
   "metadata": {},
   "outputs": [
    {
     "name": "stdout",
     "output_type": "stream",
     "text": [
      "(817394, 8)\n",
      "Index(['appointment_date', 'icb_ons_code', 'sub_icb_location_name',\n",
      "       'service_setting', 'context_type', 'national_category',\n",
      "       'count_of_appointments', 'appointment_month'],\n",
      "      dtype='object')\n",
      "<bound method NDFrame.head of        appointment_date icb_ons_code  \\\n",
      "0            2021-08-02    E54000050   \n",
      "1            2021-08-02    E54000050   \n",
      "2            2021-08-02    E54000050   \n",
      "3            2021-08-02    E54000050   \n",
      "4            2021-08-02    E54000050   \n",
      "...                 ...          ...   \n",
      "817389       2022-06-30    E54000054   \n",
      "817390       2022-06-30    E54000054   \n",
      "817391       2022-06-30    E54000054   \n",
      "817392       2022-06-30    E54000054   \n",
      "817393       2022-06-30    E54000054   \n",
      "\n",
      "                             sub_icb_location_name            service_setting  \\\n",
      "0       NHS North East and North Cumbria ICB - 00L       Primary Care Network   \n",
      "1       NHS North East and North Cumbria ICB - 00L                      Other   \n",
      "2       NHS North East and North Cumbria ICB - 00L           General Practice   \n",
      "3       NHS North East and North Cumbria ICB - 00L           General Practice   \n",
      "4       NHS North East and North Cumbria ICB - 00L           General Practice   \n",
      "...                                            ...                        ...   \n",
      "817389              NHS West Yorkshire ICB - X2C4Y  Extended Access Provision   \n",
      "817390              NHS West Yorkshire ICB - X2C4Y  Extended Access Provision   \n",
      "817391              NHS West Yorkshire ICB - X2C4Y  Extended Access Provision   \n",
      "817392              NHS West Yorkshire ICB - X2C4Y  Extended Access Provision   \n",
      "817393              NHS West Yorkshire ICB - X2C4Y  Extended Access Provision   \n",
      "\n",
      "                  context_type                       national_category  \\\n",
      "0       Care Related Encounter  Patient contact during Care Home Round   \n",
      "1       Care Related Encounter                         Planned Clinics   \n",
      "2       Care Related Encounter                              Home Visit   \n",
      "3       Care Related Encounter              General Consultation Acute   \n",
      "4       Care Related Encounter            Structured Medication Review   \n",
      "...                        ...                                     ...   \n",
      "817389  Care Related Encounter             Unplanned Clinical Activity   \n",
      "817390  Care Related Encounter                         Planned Clinics   \n",
      "817391  Care Related Encounter              Planned Clinical Procedure   \n",
      "817392  Care Related Encounter            General Consultation Routine   \n",
      "817393  Care Related Encounter              General Consultation Acute   \n",
      "\n",
      "        count_of_appointments appointment_month  \n",
      "0                           3           2021-08  \n",
      "1                           7           2021-08  \n",
      "2                          79           2021-08  \n",
      "3                         725           2021-08  \n",
      "4                           2           2021-08  \n",
      "...                       ...               ...  \n",
      "817389                     12           2022-06  \n",
      "817390                      4           2022-06  \n",
      "817391                     92           2022-06  \n",
      "817392                      4           2022-06  \n",
      "817393                     19           2022-06  \n",
      "\n",
      "[817394 rows x 8 columns]>\n"
     ]
    }
   ],
   "source": [
    "# Import and sense-check national_categories xlsx data set as nc\n",
    "nc = pd.read_excel('national_categories.xlsx')\n",
    "\n",
    "# View the DataFrame.\n",
    "print(nc.shape)\n",
    "print(nc.columns)\n",
    "print(nc.head)\n"
   ]
  },
  {
   "cell_type": "code",
   "execution_count": 13,
   "id": "f5dfc24e",
   "metadata": {},
   "outputs": [
    {
     "data": {
      "text/plain": [
       "0"
      ]
     },
     "execution_count": 13,
     "metadata": {},
     "output_type": "execute_result"
    }
   ],
   "source": [
    "# Determine whether there are missing values.\n",
    "# Sum of missing values.\n",
    "nc['count_of_appointments'].isnull().sum()"
   ]
  },
  {
   "cell_type": "code",
   "execution_count": 14,
   "id": "098fbd05",
   "metadata": {},
   "outputs": [
    {
     "data": {
      "text/plain": [
       "(0, 8)"
      ]
     },
     "execution_count": 14,
     "metadata": {},
     "output_type": "execute_result"
    }
   ],
   "source": [
    "# Check ar DataFrame for missing values.\n",
    "nc_na = nc[nc.isna().any(axis=1)]\n",
    "nc_na.shape"
   ]
  },
  {
   "cell_type": "code",
   "execution_count": 15,
   "id": "e7dbbef3",
   "metadata": {},
   "outputs": [
    {
     "name": "stdout",
     "output_type": "stream",
     "text": [
      "<class 'pandas.core.frame.DataFrame'>\n",
      "RangeIndex: 817394 entries, 0 to 817393\n",
      "Data columns (total 8 columns):\n",
      " #   Column                 Non-Null Count   Dtype         \n",
      "---  ------                 --------------   -----         \n",
      " 0   appointment_date       817394 non-null  datetime64[ns]\n",
      " 1   icb_ons_code           817394 non-null  object        \n",
      " 2   sub_icb_location_name  817394 non-null  object        \n",
      " 3   service_setting        817394 non-null  object        \n",
      " 4   context_type           817394 non-null  object        \n",
      " 5   national_category      817394 non-null  object        \n",
      " 6   count_of_appointments  817394 non-null  int64         \n",
      " 7   appointment_month      817394 non-null  object        \n",
      "dtypes: datetime64[ns](1), int64(1), object(6)\n",
      "memory usage: 49.9+ MB\n"
     ]
    }
   ],
   "source": [
    "# Determine the metadata of the data set.\n",
    "nc.info()"
   ]
  },
  {
   "cell_type": "code",
   "execution_count": 16,
   "id": "b87dfc23",
   "metadata": {},
   "outputs": [
    {
     "data": {
      "text/html": [
       "<div>\n",
       "<style scoped>\n",
       "    .dataframe tbody tr th:only-of-type {\n",
       "        vertical-align: middle;\n",
       "    }\n",
       "\n",
       "    .dataframe tbody tr th {\n",
       "        vertical-align: top;\n",
       "    }\n",
       "\n",
       "    .dataframe thead th {\n",
       "        text-align: right;\n",
       "    }\n",
       "</style>\n",
       "<table border=\"1\" class=\"dataframe\">\n",
       "  <thead>\n",
       "    <tr style=\"text-align: right;\">\n",
       "      <th></th>\n",
       "      <th>count_of_appointments</th>\n",
       "    </tr>\n",
       "  </thead>\n",
       "  <tbody>\n",
       "    <tr>\n",
       "      <th>count</th>\n",
       "      <td>817394.000000</td>\n",
       "    </tr>\n",
       "    <tr>\n",
       "      <th>mean</th>\n",
       "      <td>362.183684</td>\n",
       "    </tr>\n",
       "    <tr>\n",
       "      <th>std</th>\n",
       "      <td>1084.576600</td>\n",
       "    </tr>\n",
       "    <tr>\n",
       "      <th>min</th>\n",
       "      <td>1.000000</td>\n",
       "    </tr>\n",
       "    <tr>\n",
       "      <th>25%</th>\n",
       "      <td>7.000000</td>\n",
       "    </tr>\n",
       "    <tr>\n",
       "      <th>50%</th>\n",
       "      <td>25.000000</td>\n",
       "    </tr>\n",
       "    <tr>\n",
       "      <th>75%</th>\n",
       "      <td>128.000000</td>\n",
       "    </tr>\n",
       "    <tr>\n",
       "      <th>max</th>\n",
       "      <td>16590.000000</td>\n",
       "    </tr>\n",
       "  </tbody>\n",
       "</table>\n",
       "</div>"
      ],
      "text/plain": [
       "       count_of_appointments\n",
       "count          817394.000000\n",
       "mean              362.183684\n",
       "std              1084.576600\n",
       "min                 1.000000\n",
       "25%                 7.000000\n",
       "50%                25.000000\n",
       "75%               128.000000\n",
       "max             16590.000000"
      ]
     },
     "execution_count": 16,
     "metadata": {},
     "output_type": "execute_result"
    }
   ],
   "source": [
    "# Determine the descriptive statistics of the data set.\n",
    "nc.describe()"
   ]
  },
  {
   "cell_type": "markdown",
   "id": "f86ea066",
   "metadata": {},
   "source": [
    "### Explore the data set"
   ]
  },
  {
   "cell_type": "markdown",
   "id": "333a607a",
   "metadata": {},
   "source": [
    "**Question 1:** How many locations are there in the data set?"
   ]
  },
  {
   "cell_type": "code",
   "execution_count": 17,
   "id": "749cdb45",
   "metadata": {},
   "outputs": [
    {
     "name": "stdout",
     "output_type": "stream",
     "text": [
      "106\n"
     ]
    }
   ],
   "source": [
    "# Determine the number of locations - using sub_icb_location_code for file ad.\n",
    "Region_set_ad = set(ad['sub_icb_location_code'])\n",
    "\n",
    "# Count the set\n",
    "print(len(Region_set_ad))"
   ]
  },
  {
   "cell_type": "code",
   "execution_count": 18,
   "id": "d132fab9",
   "metadata": {},
   "outputs": [
    {
     "name": "stdout",
     "output_type": "stream",
     "text": [
      "42\n"
     ]
    }
   ],
   "source": [
    "# Determine the number of locations - using icb_ons_code for file ad.\n",
    "\n",
    "# Create Location_code set - ar\n",
    "location_set_ad = set(ad['icb_ons_code'])\n",
    "\n",
    "# Count the set\n",
    "print(len(location_set_ad))"
   ]
  },
  {
   "cell_type": "code",
   "execution_count": 19,
   "id": "5727b0de",
   "metadata": {},
   "outputs": [
    {
     "name": "stdout",
     "output_type": "stream",
     "text": [
      "42\n"
     ]
    }
   ],
   "source": [
    "# Determine the number of locations - using icb_ons_code for file ar.\n",
    "\n",
    "# Create Location_code set - ar\n",
    "location_set_ar = set(ar['icb_ons_code'])\n",
    "\n",
    "# Count the set\n",
    "print(len(location_set_ar))"
   ]
  },
  {
   "cell_type": "code",
   "execution_count": 20,
   "id": "13382c9b",
   "metadata": {},
   "outputs": [
    {
     "name": "stdout",
     "output_type": "stream",
     "text": [
      "106\n"
     ]
    }
   ],
   "source": [
    "# Determine the number of locations - using sub_icb_location_code for file nc.\n",
    "\n",
    "# Create Location_code set - nc\n",
    "region_location_nc = set(nc['sub_icb_location_name'])\n",
    "\n",
    "# Count the set\n",
    "print(len(region_location_nc))"
   ]
  },
  {
   "cell_type": "code",
   "execution_count": 21,
   "id": "32dcbbc6",
   "metadata": {},
   "outputs": [
    {
     "name": "stdout",
     "output_type": "stream",
     "text": [
      "42\n"
     ]
    }
   ],
   "source": [
    "# Determine the number of locations - using icb_ons_code for file nc.\n",
    "\n",
    "# Create Location_code set - nc\n",
    "location_set_nc = set(nc['icb_ons_code'])\n",
    "\n",
    "# Count the set\n",
    "print(len(location_set_nc))"
   ]
  },
  {
   "cell_type": "markdown",
   "id": "93f0ce86",
   "metadata": {},
   "source": [
    "**Question 2:** What are the five locations with the highest number of records?\n",
    "\n"
   ]
  },
  {
   "cell_type": "code",
   "execution_count": 22,
   "id": "9e7c3913",
   "metadata": {
    "scrolled": true
   },
   "outputs": [
    {
     "data": {
      "text/plain": [
       "NHS Norfolk and Waveney ICB - 26A                       1484\n",
       "NHS Kent and Medway ICB - 91Q                           1484\n",
       "NHS North West London ICB - W2U3Z                       1484\n",
       "NHS Bedfordshire Luton and Milton Keynes ICB - M1J4Y    1484\n",
       "NHS Greater Manchester ICB - 14L                        1484\n",
       "                                                        ... \n",
       "NHS Staffordshire and Stoke-on-Trent ICB - 05D          1051\n",
       "NHS South Yorkshire ICB - 03L                           1028\n",
       "NHS North East and North Cumbria ICB - 00P              1025\n",
       "NHS South Yorkshire ICB - 02P                           1022\n",
       "NHS Cheshire and Merseyside ICB - 01F                   1013\n",
       "Name: sub_icb_location_name, Length: 106, dtype: int64"
      ]
     },
     "execution_count": 22,
     "metadata": {},
     "output_type": "execute_result"
    }
   ],
   "source": [
    "# Determine the top five locations based on record count for file ad.\n",
    "# Use sub_icb_location_name.  \n",
    "ad['sub_icb_location_name'].value_counts()"
   ]
  },
  {
   "cell_type": "code",
   "execution_count": 23,
   "id": "b94d42b7",
   "metadata": {},
   "outputs": [
    {
     "data": {
      "text/plain": [
       "E54000057    12668\n",
       "E54000008    10636\n",
       "E54000050     9938\n",
       "E54000048     9808\n",
       "E54000051     7973\n",
       "Name: icb_ons_code, dtype: int64"
      ]
     },
     "execution_count": 23,
     "metadata": {},
     "output_type": "execute_result"
    }
   ],
   "source": [
    "# Determine the top five locations based on record count ad.\n",
    "# Use'icb_ons_code'.\n",
    "ad['icb_ons_code'].value_counts().head()"
   ]
  },
  {
   "cell_type": "code",
   "execution_count": 24,
   "id": "1f5eedc9",
   "metadata": {},
   "outputs": [
    {
     "data": {
      "text/plain": [
       "E54000057    54527\n",
       "E54000008    48253\n",
       "E54000050    43774\n",
       "E54000048    36360\n",
       "E54000051    31069\n",
       "Name: icb_ons_code, dtype: int64"
      ]
     },
     "execution_count": 24,
     "metadata": {},
     "output_type": "execute_result"
    }
   ],
   "source": [
    "# Determine the top five locations based on record count ar.\n",
    "# Use'icb_ons_code'.\n",
    "ar['icb_ons_code'].value_counts().head()"
   ]
  },
  {
   "cell_type": "code",
   "execution_count": 25,
   "id": "38ee36e4",
   "metadata": {},
   "outputs": [
    {
     "data": {
      "text/plain": [
       "NHS North West London ICB - W2U3Z              13007\n",
       "NHS Kent and Medway ICB - 91Q                  12637\n",
       "NHS Devon ICB - 15N                            12526\n",
       "NHS Hampshire and Isle Of Wight ICB - D9Y0V    12171\n",
       "NHS North East London ICB - A3A8R              11837\n",
       "                                               ...  \n",
       "NHS North East and North Cumbria ICB - 00N      4210\n",
       "NHS Lancashire and South Cumbria ICB - 02G      4169\n",
       "NHS Cheshire and Merseyside ICB - 01V           3496\n",
       "NHS Cheshire and Merseyside ICB - 01T           3242\n",
       "NHS Greater Manchester ICB - 00V                2170\n",
       "Name: sub_icb_location_name, Length: 106, dtype: int64"
      ]
     },
     "execution_count": 25,
     "metadata": {},
     "output_type": "execute_result"
    }
   ],
   "source": [
    "# Determine the top five locations based on record count nc.\n",
    "# Use sub_icb_location_name.\n",
    "nc['sub_icb_location_name'].value_counts()"
   ]
  },
  {
   "cell_type": "code",
   "execution_count": 26,
   "id": "89fa4822",
   "metadata": {},
   "outputs": [
    {
     "data": {
      "text/plain": [
       "E54000057    59180\n",
       "E54000008    53744\n",
       "E54000050    53707\n",
       "E54000048    43381\n",
       "E54000054    42888\n",
       "Name: icb_ons_code, dtype: int64"
      ]
     },
     "execution_count": 26,
     "metadata": {},
     "output_type": "execute_result"
    }
   ],
   "source": [
    "# Determine the top five locations based on record count nc.\n",
    "# Use'icb_ons_code'.\n",
    "nc['icb_ons_code'].value_counts().head()"
   ]
  },
  {
   "cell_type": "markdown",
   "id": "d75405a5",
   "metadata": {},
   "source": [
    "**Question 3:** How many service settings, context types, national categories, and appointment statuses are there?"
   ]
  },
  {
   "cell_type": "code",
   "execution_count": 27,
   "id": "3cc2f7aa",
   "metadata": {},
   "outputs": [
    {
     "data": {
      "text/plain": [
       "{'Extended Access Provision',\n",
       " 'General Practice',\n",
       " 'Other',\n",
       " 'Primary Care Network',\n",
       " 'Unmapped'}"
      ]
     },
     "execution_count": 27,
     "metadata": {},
     "output_type": "execute_result"
    }
   ],
   "source": [
    "# Determine the number of service settings.\n",
    "# Create service_setting set - ad\n",
    "service_setting_nc = set(nc['service_setting'])\n",
    "\n",
    "#View the set\n",
    "service_setting_nc"
   ]
  },
  {
   "cell_type": "code",
   "execution_count": 28,
   "id": "f6790e40",
   "metadata": {},
   "outputs": [
    {
     "data": {
      "text/plain": [
       "{'Care Related Encounter', 'Inconsistent Mapping', 'Unmapped'}"
      ]
     },
     "execution_count": 28,
     "metadata": {},
     "output_type": "execute_result"
    }
   ],
   "source": [
    "# Determine the number of context types.\n",
    "# Create context type set.\n",
    "context_type_nc = set(nc['context_type'])\n",
    "\n",
    "#View the set\n",
    "context_type_nc"
   ]
  },
  {
   "cell_type": "code",
   "execution_count": 29,
   "id": "ba95bff3",
   "metadata": {},
   "outputs": [
    {
     "data": {
      "text/plain": [
       "{'Care Home Needs Assessment & Personalised Care and Support Planning',\n",
       " 'Care Home Visit',\n",
       " 'Clinical Triage',\n",
       " 'General Consultation Acute',\n",
       " 'General Consultation Routine',\n",
       " 'Group Consultation and Group Education',\n",
       " 'Home Visit',\n",
       " 'Inconsistent Mapping',\n",
       " 'Non-contractual chargeable work',\n",
       " 'Patient contact during Care Home Round',\n",
       " 'Planned Clinical Procedure',\n",
       " 'Planned Clinics',\n",
       " 'Service provided by organisation external to the practice',\n",
       " 'Social Prescribing Service',\n",
       " 'Structured Medication Review',\n",
       " 'Unmapped',\n",
       " 'Unplanned Clinical Activity',\n",
       " 'Walk-in'}"
      ]
     },
     "execution_count": 29,
     "metadata": {},
     "output_type": "execute_result"
    }
   ],
   "source": [
    "# Determine the number of national categories.\n",
    "# Create national category set\n",
    "national_category_nc = set(nc['national_category'])\n",
    "\n",
    "#View the set\n",
    "national_category_nc"
   ]
  },
  {
   "cell_type": "code",
   "execution_count": 30,
   "id": "a72d009c",
   "metadata": {},
   "outputs": [
    {
     "data": {
      "text/plain": [
       "18"
      ]
     },
     "execution_count": 30,
     "metadata": {},
     "output_type": "execute_result"
    }
   ],
   "source": [
    "# Count the number of national categories options. \n",
    "len(national_category_nc)"
   ]
  },
  {
   "cell_type": "code",
   "execution_count": 31,
   "id": "a5633147",
   "metadata": {},
   "outputs": [
    {
     "data": {
      "text/plain": [
       "{'Attended', 'DNA', 'Unknown'}"
      ]
     },
     "execution_count": 31,
     "metadata": {},
     "output_type": "execute_result"
    }
   ],
   "source": [
    "# Determine the number of appointment status.\n",
    "# Create context type set.\n",
    "appointment_status_ar = set(ar['appointment_status'])\n",
    "\n",
    "#View the set\n",
    "appointment_status_ar"
   ]
  },
  {
   "cell_type": "markdown",
   "id": "7c3429c3",
   "metadata": {},
   "source": [
    "# "
   ]
  },
  {
   "cell_type": "markdown",
   "id": "edf661d9",
   "metadata": {},
   "source": [
    "# Assignment activity 3"
   ]
  },
  {
   "cell_type": "markdown",
   "id": "be5393dd",
   "metadata": {},
   "source": [
    "### Continue to explore the data and search for answers to more specific questions posed by the NHS."
   ]
  },
  {
   "cell_type": "markdown",
   "id": "a742e563",
   "metadata": {},
   "source": [
    "**Question 1:** Between what dates were appointments scheduled? "
   ]
  },
  {
   "cell_type": "code",
   "execution_count": 32,
   "id": "6d3e53a7",
   "metadata": {},
   "outputs": [
    {
     "data": {
      "text/html": [
       "<div>\n",
       "<style scoped>\n",
       "    .dataframe tbody tr th:only-of-type {\n",
       "        vertical-align: middle;\n",
       "    }\n",
       "\n",
       "    .dataframe tbody tr th {\n",
       "        vertical-align: top;\n",
       "    }\n",
       "\n",
       "    .dataframe thead th {\n",
       "        text-align: right;\n",
       "    }\n",
       "</style>\n",
       "<table border=\"1\" class=\"dataframe\">\n",
       "  <thead>\n",
       "    <tr style=\"text-align: right;\">\n",
       "      <th></th>\n",
       "      <th>sub_icb_location_code</th>\n",
       "      <th>sub_icb_location_ons_code</th>\n",
       "      <th>sub_icb_location_name</th>\n",
       "      <th>icb_ons_code</th>\n",
       "      <th>region_ons_code</th>\n",
       "      <th>appointment_date</th>\n",
       "      <th>actual_duration</th>\n",
       "      <th>count_of_appointments</th>\n",
       "    </tr>\n",
       "  </thead>\n",
       "  <tbody>\n",
       "    <tr>\n",
       "      <th>0</th>\n",
       "      <td>00L</td>\n",
       "      <td>E38000130</td>\n",
       "      <td>NHS North East and North Cumbria ICB - 00L</td>\n",
       "      <td>E54000050</td>\n",
       "      <td>E40000012</td>\n",
       "      <td>01-Dec-21</td>\n",
       "      <td>31-60 Minutes</td>\n",
       "      <td>364</td>\n",
       "    </tr>\n",
       "    <tr>\n",
       "      <th>1</th>\n",
       "      <td>00L</td>\n",
       "      <td>E38000130</td>\n",
       "      <td>NHS North East and North Cumbria ICB - 00L</td>\n",
       "      <td>E54000050</td>\n",
       "      <td>E40000012</td>\n",
       "      <td>01-Dec-21</td>\n",
       "      <td>21-30 Minutes</td>\n",
       "      <td>619</td>\n",
       "    </tr>\n",
       "    <tr>\n",
       "      <th>2</th>\n",
       "      <td>00L</td>\n",
       "      <td>E38000130</td>\n",
       "      <td>NHS North East and North Cumbria ICB - 00L</td>\n",
       "      <td>E54000050</td>\n",
       "      <td>E40000012</td>\n",
       "      <td>01-Dec-21</td>\n",
       "      <td>6-10 Minutes</td>\n",
       "      <td>1698</td>\n",
       "    </tr>\n",
       "    <tr>\n",
       "      <th>3</th>\n",
       "      <td>00L</td>\n",
       "      <td>E38000130</td>\n",
       "      <td>NHS North East and North Cumbria ICB - 00L</td>\n",
       "      <td>E54000050</td>\n",
       "      <td>E40000012</td>\n",
       "      <td>01-Dec-21</td>\n",
       "      <td>Unknown / Data Quality</td>\n",
       "      <td>1277</td>\n",
       "    </tr>\n",
       "    <tr>\n",
       "      <th>4</th>\n",
       "      <td>00L</td>\n",
       "      <td>E38000130</td>\n",
       "      <td>NHS North East and North Cumbria ICB - 00L</td>\n",
       "      <td>E54000050</td>\n",
       "      <td>E40000012</td>\n",
       "      <td>01-Dec-21</td>\n",
       "      <td>16-20 Minutes</td>\n",
       "      <td>730</td>\n",
       "    </tr>\n",
       "  </tbody>\n",
       "</table>\n",
       "</div>"
      ],
      "text/plain": [
       "  sub_icb_location_code sub_icb_location_ons_code  \\\n",
       "0                   00L                 E38000130   \n",
       "1                   00L                 E38000130   \n",
       "2                   00L                 E38000130   \n",
       "3                   00L                 E38000130   \n",
       "4                   00L                 E38000130   \n",
       "\n",
       "                        sub_icb_location_name icb_ons_code region_ons_code  \\\n",
       "0  NHS North East and North Cumbria ICB - 00L    E54000050       E40000012   \n",
       "1  NHS North East and North Cumbria ICB - 00L    E54000050       E40000012   \n",
       "2  NHS North East and North Cumbria ICB - 00L    E54000050       E40000012   \n",
       "3  NHS North East and North Cumbria ICB - 00L    E54000050       E40000012   \n",
       "4  NHS North East and North Cumbria ICB - 00L    E54000050       E40000012   \n",
       "\n",
       "  appointment_date         actual_duration  count_of_appointments  \n",
       "0        01-Dec-21           31-60 Minutes                    364  \n",
       "1        01-Dec-21           21-30 Minutes                    619  \n",
       "2        01-Dec-21            6-10 Minutes                   1698  \n",
       "3        01-Dec-21  Unknown / Data Quality                   1277  \n",
       "4        01-Dec-21           16-20 Minutes                    730  "
      ]
     },
     "execution_count": 32,
     "metadata": {},
     "output_type": "execute_result"
    }
   ],
   "source": [
    "# View the first five rows of appointment_date for the ad DataFrame to determine the date format.\n",
    "ad.head()"
   ]
  },
  {
   "cell_type": "code",
   "execution_count": 33,
   "id": "d32fb602",
   "metadata": {},
   "outputs": [
    {
     "data": {
      "text/html": [
       "<div>\n",
       "<style scoped>\n",
       "    .dataframe tbody tr th:only-of-type {\n",
       "        vertical-align: middle;\n",
       "    }\n",
       "\n",
       "    .dataframe tbody tr th {\n",
       "        vertical-align: top;\n",
       "    }\n",
       "\n",
       "    .dataframe thead th {\n",
       "        text-align: right;\n",
       "    }\n",
       "</style>\n",
       "<table border=\"1\" class=\"dataframe\">\n",
       "  <thead>\n",
       "    <tr style=\"text-align: right;\">\n",
       "      <th></th>\n",
       "      <th>appointment_date</th>\n",
       "      <th>icb_ons_code</th>\n",
       "      <th>sub_icb_location_name</th>\n",
       "      <th>service_setting</th>\n",
       "      <th>context_type</th>\n",
       "      <th>national_category</th>\n",
       "      <th>count_of_appointments</th>\n",
       "      <th>appointment_month</th>\n",
       "    </tr>\n",
       "  </thead>\n",
       "  <tbody>\n",
       "    <tr>\n",
       "      <th>0</th>\n",
       "      <td>2021-08-02</td>\n",
       "      <td>E54000050</td>\n",
       "      <td>NHS North East and North Cumbria ICB - 00L</td>\n",
       "      <td>Primary Care Network</td>\n",
       "      <td>Care Related Encounter</td>\n",
       "      <td>Patient contact during Care Home Round</td>\n",
       "      <td>3</td>\n",
       "      <td>2021-08</td>\n",
       "    </tr>\n",
       "    <tr>\n",
       "      <th>1</th>\n",
       "      <td>2021-08-02</td>\n",
       "      <td>E54000050</td>\n",
       "      <td>NHS North East and North Cumbria ICB - 00L</td>\n",
       "      <td>Other</td>\n",
       "      <td>Care Related Encounter</td>\n",
       "      <td>Planned Clinics</td>\n",
       "      <td>7</td>\n",
       "      <td>2021-08</td>\n",
       "    </tr>\n",
       "    <tr>\n",
       "      <th>2</th>\n",
       "      <td>2021-08-02</td>\n",
       "      <td>E54000050</td>\n",
       "      <td>NHS North East and North Cumbria ICB - 00L</td>\n",
       "      <td>General Practice</td>\n",
       "      <td>Care Related Encounter</td>\n",
       "      <td>Home Visit</td>\n",
       "      <td>79</td>\n",
       "      <td>2021-08</td>\n",
       "    </tr>\n",
       "    <tr>\n",
       "      <th>3</th>\n",
       "      <td>2021-08-02</td>\n",
       "      <td>E54000050</td>\n",
       "      <td>NHS North East and North Cumbria ICB - 00L</td>\n",
       "      <td>General Practice</td>\n",
       "      <td>Care Related Encounter</td>\n",
       "      <td>General Consultation Acute</td>\n",
       "      <td>725</td>\n",
       "      <td>2021-08</td>\n",
       "    </tr>\n",
       "    <tr>\n",
       "      <th>4</th>\n",
       "      <td>2021-08-02</td>\n",
       "      <td>E54000050</td>\n",
       "      <td>NHS North East and North Cumbria ICB - 00L</td>\n",
       "      <td>General Practice</td>\n",
       "      <td>Care Related Encounter</td>\n",
       "      <td>Structured Medication Review</td>\n",
       "      <td>2</td>\n",
       "      <td>2021-08</td>\n",
       "    </tr>\n",
       "  </tbody>\n",
       "</table>\n",
       "</div>"
      ],
      "text/plain": [
       "  appointment_date icb_ons_code                       sub_icb_location_name  \\\n",
       "0       2021-08-02    E54000050  NHS North East and North Cumbria ICB - 00L   \n",
       "1       2021-08-02    E54000050  NHS North East and North Cumbria ICB - 00L   \n",
       "2       2021-08-02    E54000050  NHS North East and North Cumbria ICB - 00L   \n",
       "3       2021-08-02    E54000050  NHS North East and North Cumbria ICB - 00L   \n",
       "4       2021-08-02    E54000050  NHS North East and North Cumbria ICB - 00L   \n",
       "\n",
       "        service_setting            context_type  \\\n",
       "0  Primary Care Network  Care Related Encounter   \n",
       "1                 Other  Care Related Encounter   \n",
       "2      General Practice  Care Related Encounter   \n",
       "3      General Practice  Care Related Encounter   \n",
       "4      General Practice  Care Related Encounter   \n",
       "\n",
       "                        national_category  count_of_appointments  \\\n",
       "0  Patient contact during Care Home Round                      3   \n",
       "1                         Planned Clinics                      7   \n",
       "2                              Home Visit                     79   \n",
       "3              General Consultation Acute                    725   \n",
       "4            Structured Medication Review                      2   \n",
       "\n",
       "  appointment_month  \n",
       "0           2021-08  \n",
       "1           2021-08  \n",
       "2           2021-08  \n",
       "3           2021-08  \n",
       "4           2021-08  "
      ]
     },
     "execution_count": 33,
     "metadata": {},
     "output_type": "execute_result"
    }
   ],
   "source": [
    "# View the first five rows of appointment_date for the nc DataFrame to determine the date format.\n",
    "nc.head()"
   ]
  },
  {
   "cell_type": "code",
   "execution_count": 34,
   "id": "05a60b63",
   "metadata": {},
   "outputs": [
    {
     "data": {
      "text/html": [
       "<div>\n",
       "<style scoped>\n",
       "    .dataframe tbody tr th:only-of-type {\n",
       "        vertical-align: middle;\n",
       "    }\n",
       "\n",
       "    .dataframe tbody tr th {\n",
       "        vertical-align: top;\n",
       "    }\n",
       "\n",
       "    .dataframe thead th {\n",
       "        text-align: right;\n",
       "    }\n",
       "</style>\n",
       "<table border=\"1\" class=\"dataframe\">\n",
       "  <thead>\n",
       "    <tr style=\"text-align: right;\">\n",
       "      <th></th>\n",
       "      <th>sub_icb_location_code</th>\n",
       "      <th>sub_icb_location_ons_code</th>\n",
       "      <th>sub_icb_location_name</th>\n",
       "      <th>icb_ons_code</th>\n",
       "      <th>region_ons_code</th>\n",
       "      <th>appointment_date</th>\n",
       "      <th>actual_duration</th>\n",
       "      <th>count_of_appointments</th>\n",
       "    </tr>\n",
       "  </thead>\n",
       "  <tbody>\n",
       "    <tr>\n",
       "      <th>0</th>\n",
       "      <td>00L</td>\n",
       "      <td>E38000130</td>\n",
       "      <td>NHS North East and North Cumbria ICB - 00L</td>\n",
       "      <td>E54000050</td>\n",
       "      <td>E40000012</td>\n",
       "      <td>01/12/2021</td>\n",
       "      <td>31-60 Minutes</td>\n",
       "      <td>364</td>\n",
       "    </tr>\n",
       "    <tr>\n",
       "      <th>1</th>\n",
       "      <td>00L</td>\n",
       "      <td>E38000130</td>\n",
       "      <td>NHS North East and North Cumbria ICB - 00L</td>\n",
       "      <td>E54000050</td>\n",
       "      <td>E40000012</td>\n",
       "      <td>01/12/2021</td>\n",
       "      <td>21-30 Minutes</td>\n",
       "      <td>619</td>\n",
       "    </tr>\n",
       "    <tr>\n",
       "      <th>2</th>\n",
       "      <td>00L</td>\n",
       "      <td>E38000130</td>\n",
       "      <td>NHS North East and North Cumbria ICB - 00L</td>\n",
       "      <td>E54000050</td>\n",
       "      <td>E40000012</td>\n",
       "      <td>01/12/2021</td>\n",
       "      <td>6-10 Minutes</td>\n",
       "      <td>1698</td>\n",
       "    </tr>\n",
       "    <tr>\n",
       "      <th>3</th>\n",
       "      <td>00L</td>\n",
       "      <td>E38000130</td>\n",
       "      <td>NHS North East and North Cumbria ICB - 00L</td>\n",
       "      <td>E54000050</td>\n",
       "      <td>E40000012</td>\n",
       "      <td>01/12/2021</td>\n",
       "      <td>Unknown / Data Quality</td>\n",
       "      <td>1277</td>\n",
       "    </tr>\n",
       "    <tr>\n",
       "      <th>4</th>\n",
       "      <td>00L</td>\n",
       "      <td>E38000130</td>\n",
       "      <td>NHS North East and North Cumbria ICB - 00L</td>\n",
       "      <td>E54000050</td>\n",
       "      <td>E40000012</td>\n",
       "      <td>01/12/2021</td>\n",
       "      <td>16-20 Minutes</td>\n",
       "      <td>730</td>\n",
       "    </tr>\n",
       "  </tbody>\n",
       "</table>\n",
       "</div>"
      ],
      "text/plain": [
       "  sub_icb_location_code sub_icb_location_ons_code  \\\n",
       "0                   00L                 E38000130   \n",
       "1                   00L                 E38000130   \n",
       "2                   00L                 E38000130   \n",
       "3                   00L                 E38000130   \n",
       "4                   00L                 E38000130   \n",
       "\n",
       "                        sub_icb_location_name icb_ons_code region_ons_code  \\\n",
       "0  NHS North East and North Cumbria ICB - 00L    E54000050       E40000012   \n",
       "1  NHS North East and North Cumbria ICB - 00L    E54000050       E40000012   \n",
       "2  NHS North East and North Cumbria ICB - 00L    E54000050       E40000012   \n",
       "3  NHS North East and North Cumbria ICB - 00L    E54000050       E40000012   \n",
       "4  NHS North East and North Cumbria ICB - 00L    E54000050       E40000012   \n",
       "\n",
       "  appointment_date         actual_duration  count_of_appointments  \n",
       "0       01/12/2021           31-60 Minutes                    364  \n",
       "1       01/12/2021           21-30 Minutes                    619  \n",
       "2       01/12/2021            6-10 Minutes                   1698  \n",
       "3       01/12/2021  Unknown / Data Quality                   1277  \n",
       "4       01/12/2021           16-20 Minutes                    730  "
      ]
     },
     "execution_count": 34,
     "metadata": {},
     "output_type": "execute_result"
    }
   ],
   "source": [
    "# Change the date format of ad['appointment_date'].\n",
    "# Import the datetime module and datetime class.\n",
    "from datetime import datetime\n",
    "\n",
    "# Amend string to datetime format\n",
    "ad['appointment_date'] = pd.to_datetime(ad['appointment_date'])\n",
    "\n",
    "ad['appointment_date'] = ad['appointment_date'].dt.strftime('%d/%m/%Y')\n",
    "\n",
    "# View the DateFrame.\n",
    "ad.head()\n"
   ]
  },
  {
   "cell_type": "code",
   "execution_count": 35,
   "id": "b73db1bf",
   "metadata": {},
   "outputs": [
    {
     "data": {
      "text/html": [
       "<div>\n",
       "<style scoped>\n",
       "    .dataframe tbody tr th:only-of-type {\n",
       "        vertical-align: middle;\n",
       "    }\n",
       "\n",
       "    .dataframe tbody tr th {\n",
       "        vertical-align: top;\n",
       "    }\n",
       "\n",
       "    .dataframe thead th {\n",
       "        text-align: right;\n",
       "    }\n",
       "</style>\n",
       "<table border=\"1\" class=\"dataframe\">\n",
       "  <thead>\n",
       "    <tr style=\"text-align: right;\">\n",
       "      <th></th>\n",
       "      <th>appointment_date</th>\n",
       "      <th>icb_ons_code</th>\n",
       "      <th>sub_icb_location_name</th>\n",
       "      <th>service_setting</th>\n",
       "      <th>context_type</th>\n",
       "      <th>national_category</th>\n",
       "      <th>count_of_appointments</th>\n",
       "      <th>appointment_month</th>\n",
       "    </tr>\n",
       "  </thead>\n",
       "  <tbody>\n",
       "    <tr>\n",
       "      <th>0</th>\n",
       "      <td>02/08/2021</td>\n",
       "      <td>E54000050</td>\n",
       "      <td>NHS North East and North Cumbria ICB - 00L</td>\n",
       "      <td>Primary Care Network</td>\n",
       "      <td>Care Related Encounter</td>\n",
       "      <td>Patient contact during Care Home Round</td>\n",
       "      <td>3</td>\n",
       "      <td>2021-08</td>\n",
       "    </tr>\n",
       "    <tr>\n",
       "      <th>1</th>\n",
       "      <td>02/08/2021</td>\n",
       "      <td>E54000050</td>\n",
       "      <td>NHS North East and North Cumbria ICB - 00L</td>\n",
       "      <td>Other</td>\n",
       "      <td>Care Related Encounter</td>\n",
       "      <td>Planned Clinics</td>\n",
       "      <td>7</td>\n",
       "      <td>2021-08</td>\n",
       "    </tr>\n",
       "    <tr>\n",
       "      <th>2</th>\n",
       "      <td>02/08/2021</td>\n",
       "      <td>E54000050</td>\n",
       "      <td>NHS North East and North Cumbria ICB - 00L</td>\n",
       "      <td>General Practice</td>\n",
       "      <td>Care Related Encounter</td>\n",
       "      <td>Home Visit</td>\n",
       "      <td>79</td>\n",
       "      <td>2021-08</td>\n",
       "    </tr>\n",
       "    <tr>\n",
       "      <th>3</th>\n",
       "      <td>02/08/2021</td>\n",
       "      <td>E54000050</td>\n",
       "      <td>NHS North East and North Cumbria ICB - 00L</td>\n",
       "      <td>General Practice</td>\n",
       "      <td>Care Related Encounter</td>\n",
       "      <td>General Consultation Acute</td>\n",
       "      <td>725</td>\n",
       "      <td>2021-08</td>\n",
       "    </tr>\n",
       "    <tr>\n",
       "      <th>4</th>\n",
       "      <td>02/08/2021</td>\n",
       "      <td>E54000050</td>\n",
       "      <td>NHS North East and North Cumbria ICB - 00L</td>\n",
       "      <td>General Practice</td>\n",
       "      <td>Care Related Encounter</td>\n",
       "      <td>Structured Medication Review</td>\n",
       "      <td>2</td>\n",
       "      <td>2021-08</td>\n",
       "    </tr>\n",
       "  </tbody>\n",
       "</table>\n",
       "</div>"
      ],
      "text/plain": [
       "  appointment_date icb_ons_code                       sub_icb_location_name  \\\n",
       "0       02/08/2021    E54000050  NHS North East and North Cumbria ICB - 00L   \n",
       "1       02/08/2021    E54000050  NHS North East and North Cumbria ICB - 00L   \n",
       "2       02/08/2021    E54000050  NHS North East and North Cumbria ICB - 00L   \n",
       "3       02/08/2021    E54000050  NHS North East and North Cumbria ICB - 00L   \n",
       "4       02/08/2021    E54000050  NHS North East and North Cumbria ICB - 00L   \n",
       "\n",
       "        service_setting            context_type  \\\n",
       "0  Primary Care Network  Care Related Encounter   \n",
       "1                 Other  Care Related Encounter   \n",
       "2      General Practice  Care Related Encounter   \n",
       "3      General Practice  Care Related Encounter   \n",
       "4      General Practice  Care Related Encounter   \n",
       "\n",
       "                        national_category  count_of_appointments  \\\n",
       "0  Patient contact during Care Home Round                      3   \n",
       "1                         Planned Clinics                      7   \n",
       "2                              Home Visit                     79   \n",
       "3              General Consultation Acute                    725   \n",
       "4            Structured Medication Review                      2   \n",
       "\n",
       "  appointment_month  \n",
       "0           2021-08  \n",
       "1           2021-08  \n",
       "2           2021-08  \n",
       "3           2021-08  \n",
       "4           2021-08  "
      ]
     },
     "execution_count": 35,
     "metadata": {},
     "output_type": "execute_result"
    }
   ],
   "source": [
    "# Change the date format of nc['appointment_date'].\n",
    "nc['appointment_date'] = nc['appointment_date'].dt.strftime('%d/%m/%Y')\n",
    "\n",
    "# View the DateFrame.\n",
    "nc.head()\n",
    "\n"
   ]
  },
  {
   "cell_type": "code",
   "execution_count": 73,
   "id": "d261ae3c",
   "metadata": {},
   "outputs": [
    {
     "data": {
      "text/plain": [
       "'01/01/2022'"
      ]
     },
     "execution_count": 73,
     "metadata": {},
     "output_type": "execute_result"
    }
   ],
   "source": [
    "min(nc['appointment_date'])"
   ]
  },
  {
   "cell_type": "code",
   "execution_count": 85,
   "id": "82cb73c1",
   "metadata": {},
   "outputs": [
    {
     "data": {
      "text/plain": [
       "min    01/01/2022\n",
       "max    31/12/2021\n",
       "Name: appointment_date, dtype: object"
      ]
     },
     "execution_count": 85,
     "metadata": {},
     "output_type": "execute_result"
    }
   ],
   "source": [
    "# min and max date attempt 2\n",
    "oldest_appointment_ad_2 = ad['appointment_date'].agg(['min', 'max'])\n",
    "\n",
    "oldest_appointment_ad_2"
   ]
  },
  {
   "cell_type": "code",
   "execution_count": 36,
   "id": "28e6b2fa",
   "metadata": {},
   "outputs": [
    {
     "name": "stdout",
     "output_type": "stream",
     "text": [
      "The oldest appointment date was 31/12/2021 and the latest appointment was 01/01/2022.\n"
     ]
    }
   ],
   "source": [
    "# Determine the minimum and maximum dates in the ad DataFrame.\n",
    "# Use appropriate docstrings.\n",
    "# Determine the maximum dates\n",
    "oldest_appointment_ad = (ad['appointment_date'].max())\n",
    "\n",
    "# Determine the minimum  dates\n",
    "latest_appointment_ad = (ad['appointment_date'].min())\n",
    "\n",
    "print(f\"The oldest appointment date was {oldest_appointment_ad} and the latest appointment was {latest_appointment_ad}.\")"
   ]
  },
  {
   "cell_type": "code",
   "execution_count": 37,
   "id": "87072228",
   "metadata": {
    "scrolled": true
   },
   "outputs": [
    {
     "name": "stdout",
     "output_type": "stream",
     "text": [
      "The oldest appointment date was 31/12/2021 and the latest appointment was 01/01/2022.\n"
     ]
    }
   ],
   "source": [
    "# Determine the minimum and maximum dates in the nc DataFrame.\n",
    "# Use appropriate docstrings.\n",
    "# Determine the maximum dates\n",
    "oldest_appointment_nc = (nc['appointment_date'].max())\n",
    "\n",
    "# Determine the minimum  dates\n",
    "latest_appointment_nc = (nc['appointment_date'].min())\n",
    "\n",
    "print(f\"The oldest appointment date was {oldest_appointment_nc} and the latest appointment was {latest_appointment_nc}.\")"
   ]
  },
  {
   "cell_type": "markdown",
   "id": "f41ad664",
   "metadata": {},
   "source": [
    "**Question 2:** Which service setting was the most popular for NHS North West London from 1 January to 1 June 2022?"
   ]
  },
  {
   "cell_type": "code",
   "execution_count": 86,
   "id": "e588074e",
   "metadata": {},
   "outputs": [
    {
     "data": {
      "text/html": [
       "<div>\n",
       "<style scoped>\n",
       "    .dataframe tbody tr th:only-of-type {\n",
       "        vertical-align: middle;\n",
       "    }\n",
       "\n",
       "    .dataframe tbody tr th {\n",
       "        vertical-align: top;\n",
       "    }\n",
       "\n",
       "    .dataframe thead th {\n",
       "        text-align: right;\n",
       "    }\n",
       "</style>\n",
       "<table border=\"1\" class=\"dataframe\">\n",
       "  <thead>\n",
       "    <tr style=\"text-align: right;\">\n",
       "      <th></th>\n",
       "      <th>appointment_date</th>\n",
       "      <th>sub_icb_location_name</th>\n",
       "      <th>service_setting</th>\n",
       "      <th>count_of_appointments</th>\n",
       "      <th>appointment_month</th>\n",
       "    </tr>\n",
       "  </thead>\n",
       "  <tbody>\n",
       "    <tr>\n",
       "      <th>732144</th>\n",
       "      <td>2022-05-09</td>\n",
       "      <td>NHS North East London ICB - A3A8R</td>\n",
       "      <td>General Practice</td>\n",
       "      <td>16590</td>\n",
       "      <td>2022-05</td>\n",
       "    </tr>\n",
       "    <tr>\n",
       "      <th>732705</th>\n",
       "      <td>2022-05-23</td>\n",
       "      <td>NHS North East London ICB - A3A8R</td>\n",
       "      <td>General Practice</td>\n",
       "      <td>16527</td>\n",
       "      <td>2022-05</td>\n",
       "    </tr>\n",
       "    <tr>\n",
       "      <th>724735</th>\n",
       "      <td>2021-10-11</td>\n",
       "      <td>NHS North East London ICB - A3A8R</td>\n",
       "      <td>General Practice</td>\n",
       "      <td>16495</td>\n",
       "      <td>2021-10</td>\n",
       "    </tr>\n",
       "    <tr>\n",
       "      <th>724978</th>\n",
       "      <td>2021-10-18</td>\n",
       "      <td>NHS North East London ICB - A3A8R</td>\n",
       "      <td>General Practice</td>\n",
       "      <td>16492</td>\n",
       "      <td>2021-10</td>\n",
       "    </tr>\n",
       "    <tr>\n",
       "      <th>732446</th>\n",
       "      <td>2022-05-16</td>\n",
       "      <td>NHS North East London ICB - A3A8R</td>\n",
       "      <td>General Practice</td>\n",
       "      <td>16412</td>\n",
       "      <td>2022-05</td>\n",
       "    </tr>\n",
       "  </tbody>\n",
       "</table>\n",
       "</div>"
      ],
      "text/plain": [
       "       appointment_date              sub_icb_location_name   service_setting  \\\n",
       "732144       2022-05-09  NHS North East London ICB - A3A8R  General Practice   \n",
       "732705       2022-05-23  NHS North East London ICB - A3A8R  General Practice   \n",
       "724735       2021-10-11  NHS North East London ICB - A3A8R  General Practice   \n",
       "724978       2021-10-18  NHS North East London ICB - A3A8R  General Practice   \n",
       "732446       2022-05-16  NHS North East London ICB - A3A8R  General Practice   \n",
       "\n",
       "        count_of_appointments appointment_month  \n",
       "732144                  16590           2022-05  \n",
       "732705                  16527           2022-05  \n",
       "724735                  16495           2021-10  \n",
       "724978                  16492           2021-10  \n",
       "732446                  16412           2022-05  "
      ]
     },
     "execution_count": 86,
     "metadata": {},
     "output_type": "execute_result"
    }
   ],
   "source": [
    "# For each of these service settings, determine the number of records available for the period and the location.\n",
    "# Create a subset nc_subset\n",
    "nc_subset = pd.read_excel('national_categories.xlsx',\n",
    "                          usecols=['appointment_date','sub_icb_location_name','service_setting','count_of_appointments','appointment_month'])\\\n",
    ".sort_values('count_of_appointments', ascending=False)\n",
    " \n",
    "# View the subset    \n",
    "nc_subset.head()\n",
    "\n"
   ]
  },
  {
   "cell_type": "code",
   "execution_count": 39,
   "id": "10dc7fc4",
   "metadata": {
    "scrolled": false
   },
   "outputs": [
    {
     "data": {
      "text/plain": [
       "General Practice             72\n",
       "Primary Care Network         38\n",
       "Other                        35\n",
       "Extended Access Provision    35\n",
       "Unmapped                      6\n",
       "Name: service_setting, dtype: int64"
      ]
     },
     "execution_count": 39,
     "metadata": {},
     "output_type": "execute_result"
    }
   ],
   "source": [
    "# Create filter \n",
    "location_date = (nc_subset.loc[(nc_subset['appointment_date'] >= \"01/01/2022\" ) &\n",
    "                               (nc_subset['appointment_date'] <= \"01/06/2022\") &\n",
    "                              (nc_subset['sub_icb_location_name'] == 'NHS North West London ICB - W2U3Z')])\n",
    "\n",
    "# View the DataFrame\n",
    "location_date['service_setting'].value_counts()"
   ]
  },
  {
   "cell_type": "markdown",
   "id": "7ac94132",
   "metadata": {},
   "source": [
    "**Question 3:** Which month had the highest number of appointments?"
   ]
  },
  {
   "cell_type": "code",
   "execution_count": 40,
   "id": "6084c6d1",
   "metadata": {},
   "outputs": [
    {
     "data": {
      "text/plain": [
       "296046770"
      ]
     },
     "execution_count": 40,
     "metadata": {},
     "output_type": "execute_result"
    }
   ],
   "source": [
    "# Number of appointments per month == sum of count_of_appointments by month.\n",
    "# Use the groupby() and sort_values() functions.\n",
    "\n",
    "# Total number of appointment using sum.\n",
    "nc_subset['count_of_appointments'].sum()\n",
    "\n",
    "\n"
   ]
  },
  {
   "cell_type": "code",
   "execution_count": 98,
   "id": "8bd4fa9d",
   "metadata": {},
   "outputs": [
    {
     "data": {
      "text/html": [
       "<div>\n",
       "<style scoped>\n",
       "    .dataframe tbody tr th:only-of-type {\n",
       "        vertical-align: middle;\n",
       "    }\n",
       "\n",
       "    .dataframe tbody tr th {\n",
       "        vertical-align: top;\n",
       "    }\n",
       "\n",
       "    .dataframe thead tr th {\n",
       "        text-align: left;\n",
       "    }\n",
       "\n",
       "    .dataframe thead tr:last-of-type th {\n",
       "        text-align: right;\n",
       "    }\n",
       "</style>\n",
       "<table border=\"1\" class=\"dataframe\">\n",
       "  <thead>\n",
       "    <tr>\n",
       "      <th></th>\n",
       "      <th>count_of_appointments</th>\n",
       "    </tr>\n",
       "    <tr>\n",
       "      <th></th>\n",
       "      <th>sum</th>\n",
       "    </tr>\n",
       "    <tr>\n",
       "      <th>appointment_month</th>\n",
       "      <th></th>\n",
       "    </tr>\n",
       "  </thead>\n",
       "  <tbody>\n",
       "    <tr>\n",
       "      <th>2021-08</th>\n",
       "      <td>23852171</td>\n",
       "    </tr>\n",
       "    <tr>\n",
       "      <th>2021-09</th>\n",
       "      <td>28522501</td>\n",
       "    </tr>\n",
       "    <tr>\n",
       "      <th>2021-10</th>\n",
       "      <td>30303834</td>\n",
       "    </tr>\n",
       "    <tr>\n",
       "      <th>2021-11</th>\n",
       "      <td>30405070</td>\n",
       "    </tr>\n",
       "    <tr>\n",
       "      <th>2021-12</th>\n",
       "      <td>25140776</td>\n",
       "    </tr>\n",
       "    <tr>\n",
       "      <th>2022-01</th>\n",
       "      <td>25635474</td>\n",
       "    </tr>\n",
       "    <tr>\n",
       "      <th>2022-02</th>\n",
       "      <td>25355260</td>\n",
       "    </tr>\n",
       "    <tr>\n",
       "      <th>2022-03</th>\n",
       "      <td>29595038</td>\n",
       "    </tr>\n",
       "    <tr>\n",
       "      <th>2022-04</th>\n",
       "      <td>23913060</td>\n",
       "    </tr>\n",
       "    <tr>\n",
       "      <th>2022-05</th>\n",
       "      <td>27495508</td>\n",
       "    </tr>\n",
       "    <tr>\n",
       "      <th>2022-06</th>\n",
       "      <td>25828078</td>\n",
       "    </tr>\n",
       "  </tbody>\n",
       "</table>\n",
       "</div>"
      ],
      "text/plain": [
       "                  count_of_appointments\n",
       "                                    sum\n",
       "appointment_month                      \n",
       "2021-08                        23852171\n",
       "2021-09                        28522501\n",
       "2021-10                        30303834\n",
       "2021-11                        30405070\n",
       "2021-12                        25140776\n",
       "2022-01                        25635474\n",
       "2022-02                        25355260\n",
       "2022-03                        29595038\n",
       "2022-04                        23913060\n",
       "2022-05                        27495508\n",
       "2022-06                        25828078"
      ]
     },
     "execution_count": 98,
     "metadata": {},
     "output_type": "execute_result"
    }
   ],
   "source": [
    "# Total number of appointments by month in date order\n",
    "nc_subset.groupby('appointment_month')[['count_of_appointments']].agg(['sum'])"
   ]
  },
  {
   "cell_type": "code",
   "execution_count": 99,
   "id": "911de8ac",
   "metadata": {},
   "outputs": [
    {
     "data": {
      "text/html": [
       "<div>\n",
       "<style scoped>\n",
       "    .dataframe tbody tr th:only-of-type {\n",
       "        vertical-align: middle;\n",
       "    }\n",
       "\n",
       "    .dataframe tbody tr th {\n",
       "        vertical-align: top;\n",
       "    }\n",
       "\n",
       "    .dataframe thead tr th {\n",
       "        text-align: left;\n",
       "    }\n",
       "\n",
       "    .dataframe thead tr:last-of-type th {\n",
       "        text-align: right;\n",
       "    }\n",
       "</style>\n",
       "<table border=\"1\" class=\"dataframe\">\n",
       "  <thead>\n",
       "    <tr>\n",
       "      <th></th>\n",
       "      <th>count_of_appointments</th>\n",
       "    </tr>\n",
       "    <tr>\n",
       "      <th></th>\n",
       "      <th>sum</th>\n",
       "    </tr>\n",
       "    <tr>\n",
       "      <th>appointment_month</th>\n",
       "      <th></th>\n",
       "    </tr>\n",
       "  </thead>\n",
       "  <tbody>\n",
       "    <tr>\n",
       "      <th>2021-11</th>\n",
       "      <td>30405070</td>\n",
       "    </tr>\n",
       "    <tr>\n",
       "      <th>2021-10</th>\n",
       "      <td>30303834</td>\n",
       "    </tr>\n",
       "    <tr>\n",
       "      <th>2022-03</th>\n",
       "      <td>29595038</td>\n",
       "    </tr>\n",
       "    <tr>\n",
       "      <th>2021-09</th>\n",
       "      <td>28522501</td>\n",
       "    </tr>\n",
       "    <tr>\n",
       "      <th>2022-05</th>\n",
       "      <td>27495508</td>\n",
       "    </tr>\n",
       "    <tr>\n",
       "      <th>2022-06</th>\n",
       "      <td>25828078</td>\n",
       "    </tr>\n",
       "    <tr>\n",
       "      <th>2022-01</th>\n",
       "      <td>25635474</td>\n",
       "    </tr>\n",
       "    <tr>\n",
       "      <th>2022-02</th>\n",
       "      <td>25355260</td>\n",
       "    </tr>\n",
       "    <tr>\n",
       "      <th>2021-12</th>\n",
       "      <td>25140776</td>\n",
       "    </tr>\n",
       "    <tr>\n",
       "      <th>2022-04</th>\n",
       "      <td>23913060</td>\n",
       "    </tr>\n",
       "    <tr>\n",
       "      <th>2021-08</th>\n",
       "      <td>23852171</td>\n",
       "    </tr>\n",
       "  </tbody>\n",
       "</table>\n",
       "</div>"
      ],
      "text/plain": [
       "                  count_of_appointments\n",
       "                                    sum\n",
       "appointment_month                      \n",
       "2021-11                        30405070\n",
       "2021-10                        30303834\n",
       "2022-03                        29595038\n",
       "2021-09                        28522501\n",
       "2022-05                        27495508\n",
       "2022-06                        25828078\n",
       "2022-01                        25635474\n",
       "2022-02                        25355260\n",
       "2021-12                        25140776\n",
       "2022-04                        23913060\n",
       "2021-08                        23852171"
      ]
     },
     "execution_count": 99,
     "metadata": {},
     "output_type": "execute_result"
    }
   ],
   "source": [
    "# Total number of appointments by month sorted\n",
    "nc_subset.groupby('appointment_month')[['count_of_appointments']].agg(['sum'])\\\n",
    ".sort_values([('count_of_appointments','sum')], ascending=False)\n"
   ]
  },
  {
   "cell_type": "code",
   "execution_count": 52,
   "id": "40d7c5d6",
   "metadata": {},
   "outputs": [
    {
     "data": {
      "text/plain": [
       "sub_icb_location_name\n",
       "NHS Bath and North East Somerset Swindon and Wiltshire ICB - 92G    5242176\n",
       "NHS Bedfordshire Luton and Milton Keynes ICB - M1J4Y                4838515\n",
       "NHS Birmingham and Solihull ICB - 15E                               6383746\n",
       "NHS Black Country ICB - D2P2L                                       7033637\n",
       "NHS Bristol North Somerset and South Gloucestershire ICB - 15C      4899508\n",
       "                                                                     ...   \n",
       "NHS West Yorkshire ICB - 02T                                        1167094\n",
       "NHS West Yorkshire ICB - 03R                                        2189894\n",
       "NHS West Yorkshire ICB - 15F                                        4551619\n",
       "NHS West Yorkshire ICB - 36J                                        4044545\n",
       "NHS West Yorkshire ICB - X2C4Y                                      2405219\n",
       "Name: count_of_appointments, Length: 106, dtype: int64"
      ]
     },
     "execution_count": 52,
     "metadata": {},
     "output_type": "execute_result"
    }
   ],
   "source": [
    "# Additional question. appointments by location\n",
    "# total number of appointment by location. \n",
    "nc_subset.groupby('sub_icb_location_name')['count_of_appointments'].sum()\n"
   ]
  },
  {
   "cell_type": "markdown",
   "id": "b28a49a5",
   "metadata": {},
   "source": [
    "**Question 4:** What was the total number of records per month?"
   ]
  },
  {
   "cell_type": "code",
   "execution_count": 103,
   "id": "00668a95",
   "metadata": {},
   "outputs": [
    {
     "data": {
      "text/html": [
       "<div>\n",
       "<style scoped>\n",
       "    .dataframe tbody tr th:only-of-type {\n",
       "        vertical-align: middle;\n",
       "    }\n",
       "\n",
       "    .dataframe tbody tr th {\n",
       "        vertical-align: top;\n",
       "    }\n",
       "\n",
       "    .dataframe thead tr th {\n",
       "        text-align: left;\n",
       "    }\n",
       "\n",
       "    .dataframe thead tr:last-of-type th {\n",
       "        text-align: right;\n",
       "    }\n",
       "</style>\n",
       "<table border=\"1\" class=\"dataframe\">\n",
       "  <thead>\n",
       "    <tr>\n",
       "      <th></th>\n",
       "      <th>count_of_appointments</th>\n",
       "    </tr>\n",
       "    <tr>\n",
       "      <th></th>\n",
       "      <th>count</th>\n",
       "    </tr>\n",
       "    <tr>\n",
       "      <th>appointment_month</th>\n",
       "      <th></th>\n",
       "    </tr>\n",
       "  </thead>\n",
       "  <tbody>\n",
       "    <tr>\n",
       "      <th>2022-03</th>\n",
       "      <td>82822</td>\n",
       "    </tr>\n",
       "    <tr>\n",
       "      <th>2021-11</th>\n",
       "      <td>77652</td>\n",
       "    </tr>\n",
       "    <tr>\n",
       "      <th>2022-05</th>\n",
       "      <td>77425</td>\n",
       "    </tr>\n",
       "    <tr>\n",
       "      <th>2021-09</th>\n",
       "      <td>74922</td>\n",
       "    </tr>\n",
       "    <tr>\n",
       "      <th>2022-06</th>\n",
       "      <td>74168</td>\n",
       "    </tr>\n",
       "    <tr>\n",
       "      <th>2021-10</th>\n",
       "      <td>74078</td>\n",
       "    </tr>\n",
       "    <tr>\n",
       "      <th>2021-12</th>\n",
       "      <td>72651</td>\n",
       "    </tr>\n",
       "    <tr>\n",
       "      <th>2022-01</th>\n",
       "      <td>71896</td>\n",
       "    </tr>\n",
       "    <tr>\n",
       "      <th>2022-02</th>\n",
       "      <td>71769</td>\n",
       "    </tr>\n",
       "    <tr>\n",
       "      <th>2022-04</th>\n",
       "      <td>70012</td>\n",
       "    </tr>\n",
       "    <tr>\n",
       "      <th>2021-08</th>\n",
       "      <td>69999</td>\n",
       "    </tr>\n",
       "  </tbody>\n",
       "</table>\n",
       "</div>"
      ],
      "text/plain": [
       "                  count_of_appointments\n",
       "                                  count\n",
       "appointment_month                      \n",
       "2022-03                           82822\n",
       "2021-11                           77652\n",
       "2022-05                           77425\n",
       "2021-09                           74922\n",
       "2022-06                           74168\n",
       "2021-10                           74078\n",
       "2021-12                           72651\n",
       "2022-01                           71896\n",
       "2022-02                           71769\n",
       "2022-04                           70012\n",
       "2021-08                           69999"
      ]
     },
     "execution_count": 103,
     "metadata": {},
     "output_type": "execute_result"
    }
   ],
   "source": [
    "# Total number of records per month.\n",
    "# count_of_appointments\n",
    "nc_subset.groupby('appointment_month')[['count_of_appointments']].agg(['count'])\\\n",
    ".sort_values([('count_of_appointments','count')], ascending=False)\n"
   ]
  },
  {
   "cell_type": "markdown",
   "id": "7aba0dca",
   "metadata": {},
   "source": [
    "# "
   ]
  },
  {
   "cell_type": "markdown",
   "id": "3a2caa91",
   "metadata": {},
   "source": [
    "# Assignment activity 4"
   ]
  },
  {
   "cell_type": "markdown",
   "id": "946a2948",
   "metadata": {},
   "source": [
    "### Create visualisations and identify possible monthly and seasonal trends in the data."
   ]
  },
  {
   "cell_type": "code",
   "execution_count": null,
   "id": "c833e1ab",
   "metadata": {},
   "outputs": [],
   "source": [
    "# Import the necessary libraries.\n",
    "import seaborn as sns\n",
    "import matplotlib.pyplot as plt\n",
    "\n",
    "# Set figure size.\n",
    "sns.set(rc={'figure.figsize':(15, 12)})\n",
    "\n",
    "# Set the plot style as white.\n",
    "sns.set_style('white')"
   ]
  },
  {
   "cell_type": "markdown",
   "id": "9bb9d65d",
   "metadata": {},
   "source": [
    "### Objective 1\n",
    "Create three visualisations indicating the number of appointments per month for service settings, context types, and national categories."
   ]
  },
  {
   "cell_type": "code",
   "execution_count": null,
   "id": "e1ba886c",
   "metadata": {},
   "outputs": [],
   "source": [
    "# Change the data type of the appointment month to string to allow for easier plotting.\n"
   ]
  },
  {
   "cell_type": "code",
   "execution_count": null,
   "id": "63160f27",
   "metadata": {},
   "outputs": [],
   "source": [
    "# Aggregate on monthly level and determine the sum of records per month.\n",
    "\n",
    "\n",
    "# View output.\n"
   ]
  },
  {
   "cell_type": "markdown",
   "id": "b82916ae",
   "metadata": {},
   "source": [
    "**Service settings:**"
   ]
  },
  {
   "cell_type": "code",
   "execution_count": null,
   "id": "485b51c6",
   "metadata": {},
   "outputs": [],
   "source": [
    "# Plot the appointments over the available date range, and review the service settings for months.\n",
    "# Create a lineplot.\n"
   ]
  },
  {
   "cell_type": "markdown",
   "id": "8145c8d9",
   "metadata": {},
   "source": [
    "**Context types:**"
   ]
  },
  {
   "cell_type": "code",
   "execution_count": null,
   "id": "1f23e5f8",
   "metadata": {},
   "outputs": [],
   "source": [
    "# Create a separate data set that can be used in future weeks. \n",
    "\n",
    "\n",
    "# View output.\n"
   ]
  },
  {
   "cell_type": "code",
   "execution_count": null,
   "id": "ca2aa462",
   "metadata": {},
   "outputs": [],
   "source": [
    "# Plot the appointments over the available date range, and review the context types for months.\n",
    "# Create a lineplot.\n"
   ]
  },
  {
   "cell_type": "markdown",
   "id": "e7d64afe",
   "metadata": {},
   "source": [
    "**National categories:**"
   ]
  },
  {
   "cell_type": "code",
   "execution_count": null,
   "id": "3b22addb",
   "metadata": {},
   "outputs": [],
   "source": [
    "# Create a separate data set that can be used in future weeks. \n",
    "\n",
    "\n",
    "# View output.\n"
   ]
  },
  {
   "cell_type": "code",
   "execution_count": null,
   "id": "6ccc0541",
   "metadata": {},
   "outputs": [],
   "source": [
    "# Plot the appointments over the available date range, and review the national categories for months.\n",
    "# Create a lineplot.\n"
   ]
  },
  {
   "cell_type": "markdown",
   "id": "a8e70f6b",
   "metadata": {},
   "source": [
    "### Objective 2\n",
    "Create four visualisations indicating the number of appointments for service setting per season. The seasons are summer (August 2021), autumn (October 2021), winter (January 2022), and spring (April 2022)."
   ]
  },
  {
   "cell_type": "markdown",
   "id": "9f2e1169",
   "metadata": {},
   "source": [
    "**Summer (August 2021):**"
   ]
  },
  {
   "cell_type": "code",
   "execution_count": null,
   "id": "9a3586e8",
   "metadata": {},
   "outputs": [],
   "source": [
    "# Create a separate data set that can be used in future weeks. \n",
    "\n",
    "\n",
    "# View output.\n"
   ]
  },
  {
   "cell_type": "code",
   "execution_count": null,
   "id": "b7f7857c",
   "metadata": {},
   "outputs": [],
   "source": [
    "# Look at August 2021 in more detail to allow a closer look.\n",
    "# Create a lineplot.\n"
   ]
  },
  {
   "cell_type": "markdown",
   "id": "5d356e45",
   "metadata": {},
   "source": [
    "**Autumn (October 2021):**"
   ]
  },
  {
   "cell_type": "code",
   "execution_count": null,
   "id": "fedd3cb6",
   "metadata": {},
   "outputs": [],
   "source": [
    "# Look at October 2021 in more detail to allow a closer look.\n",
    "# Create a lineplot.\n"
   ]
  },
  {
   "cell_type": "markdown",
   "id": "adf4194a",
   "metadata": {},
   "source": [
    "**Winter (January 2022):**"
   ]
  },
  {
   "cell_type": "code",
   "execution_count": null,
   "id": "ffca2ed1",
   "metadata": {},
   "outputs": [],
   "source": [
    "# Look at January 2022 in more detail to allow a closer look.\n",
    "# Create a lineplot.\n"
   ]
  },
  {
   "cell_type": "markdown",
   "id": "fd411d37",
   "metadata": {},
   "source": [
    "**Spring (April 2022):**"
   ]
  },
  {
   "cell_type": "code",
   "execution_count": null,
   "id": "74f43b1d",
   "metadata": {},
   "outputs": [],
   "source": [
    "# Look at April 2022 in more detail to allow a closer look.\n",
    "# Create a lineplot.\n"
   ]
  },
  {
   "cell_type": "markdown",
   "id": "d70b95c0",
   "metadata": {},
   "source": [
    "# "
   ]
  },
  {
   "cell_type": "markdown",
   "id": "d3513fd2",
   "metadata": {},
   "source": [
    "# Assignment activity 5"
   ]
  },
  {
   "cell_type": "markdown",
   "id": "347b2229",
   "metadata": {},
   "source": [
    "### Analyse tweets from Twitter with hashtags related to healthcare in the UK."
   ]
  },
  {
   "cell_type": "code",
   "execution_count": null,
   "id": "06bc19bb",
   "metadata": {},
   "outputs": [],
   "source": [
    "# Libraries and settings needed for analysis\n",
    "import pandas as pd\n",
    "import seaborn as sns\n",
    "\n",
    "# Set figure size.\n",
    "sns.set(rc={'figure.figsize':(15, 12)})\n",
    "\n",
    "# Set the plot style as white.\n",
    "sns.set_style('white')\n",
    "\n",
    "# Maximum column width to display\n",
    "pd.options.display.max_colwidth = 200"
   ]
  },
  {
   "cell_type": "code",
   "execution_count": null,
   "id": "558dec8e",
   "metadata": {},
   "outputs": [],
   "source": [
    "# Load the data set.\n",
    "\n",
    "\n",
    "# View the DataFrame.\n"
   ]
  },
  {
   "cell_type": "code",
   "execution_count": null,
   "id": "b9592370",
   "metadata": {},
   "outputs": [],
   "source": [
    "# Explore the metadata.\n"
   ]
  },
  {
   "cell_type": "code",
   "execution_count": null,
   "id": "9dfcfd06",
   "metadata": {},
   "outputs": [],
   "source": [
    "# Explore the data set.\n"
   ]
  },
  {
   "cell_type": "code",
   "execution_count": null,
   "id": "e2fd27e3",
   "metadata": {},
   "outputs": [],
   "source": [
    "# Would it be useful to only look at retweeted and favourite tweet messages?\n",
    "# Explain your answer.\n"
   ]
  },
  {
   "cell_type": "code",
   "execution_count": null,
   "id": "bb667e2f",
   "metadata": {},
   "outputs": [],
   "source": [
    "# Create a new DataFrame containing only the text.\n",
    "\n",
    "\n",
    "# View the DataFrame.\n"
   ]
  },
  {
   "cell_type": "code",
   "execution_count": null,
   "id": "ce3211b3",
   "metadata": {},
   "outputs": [],
   "source": [
    "# Loop through the messages, and create a list of values containing the # symbol.\n"
   ]
  },
  {
   "cell_type": "code",
   "execution_count": null,
   "id": "111ee38c",
   "metadata": {},
   "outputs": [],
   "source": [
    "# Display the first 30 records.\n"
   ]
  },
  {
   "cell_type": "code",
   "execution_count": null,
   "id": "3127ca56",
   "metadata": {},
   "outputs": [],
   "source": [
    "# Convert the series to a DataFrame in preparation for visualisation.\n",
    "\n",
    "\n",
    "# Rename the columns.\n"
   ]
  },
  {
   "cell_type": "code",
   "execution_count": null,
   "id": "0c7edd19",
   "metadata": {},
   "outputs": [],
   "source": [
    "# Fix the count datatype.\n",
    "\n",
    "\n",
    "# View the result.\n"
   ]
  },
  {
   "cell_type": "code",
   "execution_count": null,
   "id": "1e03f41a",
   "metadata": {},
   "outputs": [],
   "source": [
    "# Display records where the count is larger than 10.\n"
   ]
  },
  {
   "cell_type": "code",
   "execution_count": null,
   "id": "deb872d1",
   "metadata": {},
   "outputs": [],
   "source": [
    "# Create a Seaborn barplot indicating records with a count >10 records.\n"
   ]
  },
  {
   "cell_type": "code",
   "execution_count": null,
   "id": "7174f163",
   "metadata": {},
   "outputs": [],
   "source": [
    "# Create the plot.\n",
    "\n",
    "\n",
    "# View the barplot.\n"
   ]
  },
  {
   "cell_type": "markdown",
   "id": "5534d8ff",
   "metadata": {},
   "source": [
    "# "
   ]
  },
  {
   "cell_type": "markdown",
   "id": "c04eb259",
   "metadata": {},
   "source": [
    "# Assignment activity 6"
   ]
  },
  {
   "cell_type": "markdown",
   "id": "9579ccd5",
   "metadata": {},
   "source": [
    "### Investigate the main cencerns posed by the NHS. "
   ]
  },
  {
   "cell_type": "code",
   "execution_count": null,
   "id": "9e21e577",
   "metadata": {},
   "outputs": [],
   "source": [
    "# Prepare your workstation.\n",
    "# Load the appointments_regional.csv file.\n",
    "\n",
    "\n",
    "# View the DataFrame.\n"
   ]
  },
  {
   "cell_type": "code",
   "execution_count": null,
   "id": "580ed8c0",
   "metadata": {},
   "outputs": [],
   "source": [
    "# Print the min and max dates.\n"
   ]
  },
  {
   "cell_type": "code",
   "execution_count": null,
   "id": "86bef592",
   "metadata": {},
   "outputs": [],
   "source": [
    "# Filter the data set to only look at data from 2021-08 onwards.\n"
   ]
  },
  {
   "cell_type": "markdown",
   "id": "d6e4b4d8",
   "metadata": {},
   "source": [
    "**Question 1:** Should the NHS start looking at increasing staff levels? "
   ]
  },
  {
   "cell_type": "code",
   "execution_count": null,
   "id": "00805db8",
   "metadata": {},
   "outputs": [],
   "source": [
    "# Create an aggregated data set to review the different features.\n",
    "\n",
    "\n",
    "# View the DataFrame.\n"
   ]
  },
  {
   "cell_type": "code",
   "execution_count": null,
   "id": "d55c0532",
   "metadata": {},
   "outputs": [],
   "source": [
    "# Determine the total number of appointments per month.\n",
    "\n",
    "\n",
    "# Add a new column to indicate the average utilisation of services.\n",
    "# Monthly aggregate / 30 to get to a daily value.\n",
    "\n",
    "\n",
    "# View the DataFrame.\n"
   ]
  },
  {
   "cell_type": "code",
   "execution_count": null,
   "id": "76d9e2c2",
   "metadata": {},
   "outputs": [],
   "source": [
    "# Plot sum of count of monthly visits.\n",
    "# Convert the appointment_month to string data type for ease of visualisation.\n",
    "\n",
    "\n",
    "# Create a lineplot with Seaborn.\n"
   ]
  },
  {
   "cell_type": "code",
   "execution_count": null,
   "id": "e47e13f4",
   "metadata": {},
   "outputs": [],
   "source": [
    "# Plot monthly capacity utilisation.\n",
    "\n",
    "\n",
    "# Create a lineplot.\n"
   ]
  },
  {
   "cell_type": "markdown",
   "id": "eb893b06",
   "metadata": {},
   "source": [
    "**Question 2:** How do the healthcare professional types differ over time?"
   ]
  },
  {
   "cell_type": "code",
   "execution_count": null,
   "id": "4179ad07",
   "metadata": {},
   "outputs": [],
   "source": [
    "# Create a line plot to answer the question.\n"
   ]
  },
  {
   "cell_type": "markdown",
   "id": "04d7214b",
   "metadata": {},
   "source": [
    "**Question 3:** Are there significant changes in whether or not visits are attended?"
   ]
  },
  {
   "cell_type": "code",
   "execution_count": null,
   "id": "e04c1fea",
   "metadata": {},
   "outputs": [],
   "source": [
    "# Create a line plot to answer the question.\n"
   ]
  },
  {
   "cell_type": "markdown",
   "id": "7830f29e",
   "metadata": {},
   "source": [
    "**Question 4:** Are there changes in terms of appointment type and the busiest months?"
   ]
  },
  {
   "cell_type": "code",
   "execution_count": null,
   "id": "8b0e203c",
   "metadata": {},
   "outputs": [],
   "source": [
    "# Create a line plot to answer the question.\n"
   ]
  },
  {
   "cell_type": "markdown",
   "id": "56b47fa9",
   "metadata": {},
   "source": [
    "**Question 5:** Are there any trends in time between booking an appointment?"
   ]
  },
  {
   "cell_type": "code",
   "execution_count": null,
   "id": "8197701c",
   "metadata": {},
   "outputs": [],
   "source": [
    "# Create a line plot to answer the question.\n"
   ]
  },
  {
   "cell_type": "markdown",
   "id": "1047943e",
   "metadata": {},
   "source": [
    "**Question 6:** How do the spread of service settings compare?"
   ]
  },
  {
   "cell_type": "code",
   "execution_count": null,
   "id": "b3b6f791",
   "metadata": {},
   "outputs": [],
   "source": [
    "# Let's go back to the national category DataFrame you created in an earlier assignment activity.\n"
   ]
  },
  {
   "cell_type": "code",
   "execution_count": null,
   "id": "85fbdb42",
   "metadata": {},
   "outputs": [],
   "source": [
    "# Create a new DataFrame consisting of the month of appointment and the number of appointments.\n",
    "\n",
    "# View the DataFrame.\n"
   ]
  },
  {
   "cell_type": "code",
   "execution_count": null,
   "id": "8b524499",
   "metadata": {},
   "outputs": [],
   "source": [
    "# Create a boxplot to investigate spread of service settings.\n"
   ]
  },
  {
   "cell_type": "code",
   "execution_count": null,
   "id": "c8c2c69c",
   "metadata": {},
   "outputs": [],
   "source": [
    "# Create a boxplot to investigate the service settings without GP.\n"
   ]
  },
  {
   "cell_type": "markdown",
   "id": "f3521285",
   "metadata": {},
   "source": [
    "# "
   ]
  },
  {
   "cell_type": "markdown",
   "id": "fdd46686",
   "metadata": {},
   "source": [
    "### Provide a summary of your findings and recommendations based on the analysis."
   ]
  },
  {
   "cell_type": "markdown",
   "id": "afb38a10",
   "metadata": {},
   "source": [
    "> Double click to insert your summary."
   ]
  },
  {
   "cell_type": "code",
   "execution_count": null,
   "id": "4ee5f149",
   "metadata": {},
   "outputs": [],
   "source": []
  }
 ],
 "metadata": {
  "kernelspec": {
   "display_name": "Python 3 (ipykernel)",
   "language": "python",
   "name": "python3"
  },
  "language_info": {
   "codemirror_mode": {
    "name": "ipython",
    "version": 3
   },
   "file_extension": ".py",
   "mimetype": "text/x-python",
   "name": "python",
   "nbconvert_exporter": "python",
   "pygments_lexer": "ipython3",
   "version": "3.9.12"
  }
 },
 "nbformat": 4,
 "nbformat_minor": 5
}
