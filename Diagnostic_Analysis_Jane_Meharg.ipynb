{
 "cells": [
  {
   "cell_type": "code",
   "execution_count": 5,
   "id": "8bd5d33e",
   "metadata": {
    "scrolled": true
   },
   "outputs": [
    {
     "name": "stdout",
     "output_type": "stream",
     "text": [
      "Index(['sub_icb_location_code', 'sub_icb_location_ons_code',\n",
      "       'sub_icb_location_name', 'icb_ons_code', 'region_ons_code',\n",
      "       'appointment_date', 'actual_duration', 'count_of_appointments'],\n",
      "      dtype='object')\n"
     ]
    }
   ],
   "source": [
    "# Import the necessary packages.\n",
    "import pandas as pd\n",
    "import numpy as np\n"
   ]
  },
  {
   "cell_type": "code",
   "execution_count": 16,
   "id": "69126c37",
   "metadata": {},
   "outputs": [
    {
     "name": "stdout",
     "output_type": "stream",
     "text": [
      "Index(['sub_icb_location_code', 'sub_icb_location_ons_code',\n",
      "       'sub_icb_location_name', 'icb_ons_code', 'region_ons_code',\n",
      "       'appointment_date', 'actual_duration', 'count_of_appointments'],\n",
      "      dtype='object')\n"
     ]
    }
   ],
   "source": [
    "# Import data set actual_duration csv as ad. \n",
    "ad = pd.read_csv('actual_duration.csv')\n",
    "\n",
    "# Print the DataFrame.\n",
    "print(ad.columns)\n"
   ]
  },
  {
   "cell_type": "code",
   "execution_count": 6,
   "id": "56c14e8f",
   "metadata": {},
   "outputs": [
    {
     "name": "stdout",
     "output_type": "stream",
     "text": [
      "Index(['icb_ons_code', 'appointment_month', 'appointment_status', 'hcp_type',\n",
      "       'appointment_mode', 'time_between_book_and_appointment',\n",
      "       'count_of_appointments'],\n",
      "      dtype='object')\n"
     ]
    }
   ],
   "source": [
    "# Import data set appointment_regional csv as ar.\n",
    "ar = pd.read_csv('appointments_regional.csv')\n",
    "\n",
    "# Print the DataFrame.\n",
    "print(ar.columns)"
   ]
  },
  {
   "cell_type": "code",
   "execution_count": 7,
   "id": "1ae4f845",
   "metadata": {},
   "outputs": [
    {
     "name": "stdout",
     "output_type": "stream",
     "text": [
      "Index(['appointment_date', 'icb_ons_code', 'sub_icb_location_name',\n",
      "       'service_setting', 'context_type', 'national_category',\n",
      "       'count_of_appointments', 'appointment_month'],\n",
      "      dtype='object')\n"
     ]
    }
   ],
   "source": [
    "# Import data set national_categories xlsx as nc. \n",
    "nc = pd.read_excel('national_categories.xlsx')\n",
    "\n",
    "# View the DataFrame.\n",
    "print(nc.columns)"
   ]
  },
  {
   "cell_type": "code",
   "execution_count": 9,
   "id": "af8bf96d",
   "metadata": {},
   "outputs": [
    {
     "data": {
      "text/plain": [
       "sub_icb_location_code        object\n",
       "sub_icb_location_ons_code    object\n",
       "sub_icb_location_name        object\n",
       "icb_ons_code                 object\n",
       "region_ons_code              object\n",
       "appointment_date             object\n",
       "actual_duration              object\n",
       "count_of_appointments         int64\n",
       "dtype: object"
      ]
     },
     "execution_count": 9,
     "metadata": {},
     "output_type": "execute_result"
    }
   ],
   "source": [
    "# Validate data types actual_duration\n",
    "ad.dtypes"
   ]
  },
  {
   "cell_type": "code",
   "execution_count": 21,
   "id": "a2270e0e",
   "metadata": {},
   "outputs": [
    {
     "data": {
      "text/plain": [
       "icb_ons_code                         object\n",
       "appointment_month                    object\n",
       "appointment_status                   object\n",
       "hcp_type                             object\n",
       "appointment_mode                     object\n",
       "time_between_book_and_appointment    object\n",
       "count_of_appointments                 int64\n",
       "dtype: object"
      ]
     },
     "execution_count": 21,
     "metadata": {},
     "output_type": "execute_result"
    }
   ],
   "source": [
    "# Validate data types appointment_regional\n",
    "ar.dtypes"
   ]
  },
  {
   "cell_type": "code",
   "execution_count": 22,
   "id": "b5628974",
   "metadata": {},
   "outputs": [
    {
     "data": {
      "text/plain": [
       "appointment_date         datetime64[ns]\n",
       "icb_ons_code                     object\n",
       "sub_icb_location_name            object\n",
       "service_setting                  object\n",
       "context_type                     object\n",
       "national_category                object\n",
       "count_of_appointments             int64\n",
       "appointment_month                object\n",
       "dtype: object"
      ]
     },
     "execution_count": 22,
     "metadata": {},
     "output_type": "execute_result"
    }
   ],
   "source": [
    "# Validate data types national_categories\n",
    "nc.dtypes"
   ]
  },
  {
   "cell_type": "code",
   "execution_count": 9,
   "id": "a56d3229",
   "metadata": {},
   "outputs": [
    {
     "data": {
      "text/html": [
       "<div>\n",
       "<style scoped>\n",
       "    .dataframe tbody tr th:only-of-type {\n",
       "        vertical-align: middle;\n",
       "    }\n",
       "\n",
       "    .dataframe tbody tr th {\n",
       "        vertical-align: top;\n",
       "    }\n",
       "\n",
       "    .dataframe thead th {\n",
       "        text-align: right;\n",
       "    }\n",
       "</style>\n",
       "<table border=\"1\" class=\"dataframe\">\n",
       "  <thead>\n",
       "    <tr style=\"text-align: right;\">\n",
       "      <th></th>\n",
       "      <th>count_of_appointments</th>\n",
       "    </tr>\n",
       "  </thead>\n",
       "  <tbody>\n",
       "    <tr>\n",
       "      <th>count</th>\n",
       "      <td>137793.000000</td>\n",
       "    </tr>\n",
       "    <tr>\n",
       "      <th>mean</th>\n",
       "      <td>1219.080011</td>\n",
       "    </tr>\n",
       "    <tr>\n",
       "      <th>std</th>\n",
       "      <td>1546.902956</td>\n",
       "    </tr>\n",
       "    <tr>\n",
       "      <th>min</th>\n",
       "      <td>1.000000</td>\n",
       "    </tr>\n",
       "    <tr>\n",
       "      <th>25%</th>\n",
       "      <td>194.000000</td>\n",
       "    </tr>\n",
       "    <tr>\n",
       "      <th>50%</th>\n",
       "      <td>696.000000</td>\n",
       "    </tr>\n",
       "    <tr>\n",
       "      <th>75%</th>\n",
       "      <td>1621.000000</td>\n",
       "    </tr>\n",
       "    <tr>\n",
       "      <th>max</th>\n",
       "      <td>15400.000000</td>\n",
       "    </tr>\n",
       "  </tbody>\n",
       "</table>\n",
       "</div>"
      ],
      "text/plain": [
       "       count_of_appointments\n",
       "count          137793.000000\n",
       "mean             1219.080011\n",
       "std              1546.902956\n",
       "min                 1.000000\n",
       "25%               194.000000\n",
       "50%               696.000000\n",
       "75%              1621.000000\n",
       "max             15400.000000"
      ]
     },
     "execution_count": 9,
     "metadata": {},
     "output_type": "execute_result"
    }
   ],
   "source": [
    "# Descriptive statistics. actual_duration.\n",
    "ad.describe()"
   ]
  },
  {
   "cell_type": "code",
   "execution_count": 10,
   "id": "bc815e1f",
   "metadata": {},
   "outputs": [
    {
     "data": {
      "text/html": [
       "<div>\n",
       "<style scoped>\n",
       "    .dataframe tbody tr th:only-of-type {\n",
       "        vertical-align: middle;\n",
       "    }\n",
       "\n",
       "    .dataframe tbody tr th {\n",
       "        vertical-align: top;\n",
       "    }\n",
       "\n",
       "    .dataframe thead th {\n",
       "        text-align: right;\n",
       "    }\n",
       "</style>\n",
       "<table border=\"1\" class=\"dataframe\">\n",
       "  <thead>\n",
       "    <tr style=\"text-align: right;\">\n",
       "      <th></th>\n",
       "      <th>count_of_appointments</th>\n",
       "    </tr>\n",
       "  </thead>\n",
       "  <tbody>\n",
       "    <tr>\n",
       "      <th>count</th>\n",
       "      <td>596821.000000</td>\n",
       "    </tr>\n",
       "    <tr>\n",
       "      <th>mean</th>\n",
       "      <td>1244.601857</td>\n",
       "    </tr>\n",
       "    <tr>\n",
       "      <th>std</th>\n",
       "      <td>5856.887042</td>\n",
       "    </tr>\n",
       "    <tr>\n",
       "      <th>min</th>\n",
       "      <td>1.000000</td>\n",
       "    </tr>\n",
       "    <tr>\n",
       "      <th>25%</th>\n",
       "      <td>7.000000</td>\n",
       "    </tr>\n",
       "    <tr>\n",
       "      <th>50%</th>\n",
       "      <td>47.000000</td>\n",
       "    </tr>\n",
       "    <tr>\n",
       "      <th>75%</th>\n",
       "      <td>308.000000</td>\n",
       "    </tr>\n",
       "    <tr>\n",
       "      <th>max</th>\n",
       "      <td>211265.000000</td>\n",
       "    </tr>\n",
       "  </tbody>\n",
       "</table>\n",
       "</div>"
      ],
      "text/plain": [
       "       count_of_appointments\n",
       "count          596821.000000\n",
       "mean             1244.601857\n",
       "std              5856.887042\n",
       "min                 1.000000\n",
       "25%                 7.000000\n",
       "50%                47.000000\n",
       "75%               308.000000\n",
       "max            211265.000000"
      ]
     },
     "execution_count": 10,
     "metadata": {},
     "output_type": "execute_result"
    }
   ],
   "source": [
    "# Descriptive statistics. appointment_regional\n",
    "ar.describe()"
   ]
  },
  {
   "cell_type": "code",
   "execution_count": 11,
   "id": "11ef1785",
   "metadata": {},
   "outputs": [
    {
     "data": {
      "text/html": [
       "<div>\n",
       "<style scoped>\n",
       "    .dataframe tbody tr th:only-of-type {\n",
       "        vertical-align: middle;\n",
       "    }\n",
       "\n",
       "    .dataframe tbody tr th {\n",
       "        vertical-align: top;\n",
       "    }\n",
       "\n",
       "    .dataframe thead th {\n",
       "        text-align: right;\n",
       "    }\n",
       "</style>\n",
       "<table border=\"1\" class=\"dataframe\">\n",
       "  <thead>\n",
       "    <tr style=\"text-align: right;\">\n",
       "      <th></th>\n",
       "      <th>count_of_appointments</th>\n",
       "    </tr>\n",
       "  </thead>\n",
       "  <tbody>\n",
       "    <tr>\n",
       "      <th>count</th>\n",
       "      <td>817394.000000</td>\n",
       "    </tr>\n",
       "    <tr>\n",
       "      <th>mean</th>\n",
       "      <td>362.183684</td>\n",
       "    </tr>\n",
       "    <tr>\n",
       "      <th>std</th>\n",
       "      <td>1084.576600</td>\n",
       "    </tr>\n",
       "    <tr>\n",
       "      <th>min</th>\n",
       "      <td>1.000000</td>\n",
       "    </tr>\n",
       "    <tr>\n",
       "      <th>25%</th>\n",
       "      <td>7.000000</td>\n",
       "    </tr>\n",
       "    <tr>\n",
       "      <th>50%</th>\n",
       "      <td>25.000000</td>\n",
       "    </tr>\n",
       "    <tr>\n",
       "      <th>75%</th>\n",
       "      <td>128.000000</td>\n",
       "    </tr>\n",
       "    <tr>\n",
       "      <th>max</th>\n",
       "      <td>16590.000000</td>\n",
       "    </tr>\n",
       "  </tbody>\n",
       "</table>\n",
       "</div>"
      ],
      "text/plain": [
       "       count_of_appointments\n",
       "count          817394.000000\n",
       "mean              362.183684\n",
       "std              1084.576600\n",
       "min                 1.000000\n",
       "25%                 7.000000\n",
       "50%                25.000000\n",
       "75%               128.000000\n",
       "max             16590.000000"
      ]
     },
     "execution_count": 11,
     "metadata": {},
     "output_type": "execute_result"
    }
   ],
   "source": [
    "# Descriptive statistics.  national_categories\n",
    "nc.describe()"
   ]
  },
  {
   "cell_type": "code",
   "execution_count": 4,
   "id": "81a50f3e",
   "metadata": {},
   "outputs": [
    {
     "name": "stdout",
     "output_type": "stream",
     "text": [
      "<class 'pandas.core.frame.DataFrame'>\n",
      "RangeIndex: 137793 entries, 0 to 137792\n",
      "Data columns (total 8 columns):\n",
      " #   Column                     Non-Null Count   Dtype \n",
      "---  ------                     --------------   ----- \n",
      " 0   sub_icb_location_code      137793 non-null  object\n",
      " 1   sub_icb_location_ons_code  137793 non-null  object\n",
      " 2   sub_icb_location_name      137793 non-null  object\n",
      " 3   icb_ons_code               137793 non-null  object\n",
      " 4   region_ons_code            137793 non-null  object\n",
      " 5   appointment_date           137793 non-null  object\n",
      " 6   actual_duration            137793 non-null  object\n",
      " 7   count_of_appointments      137793 non-null  int64 \n",
      "dtypes: int64(1), object(7)\n",
      "memory usage: 8.4+ MB\n"
     ]
    }
   ],
   "source": [
    "# Summary of DataFrame ad\n",
    "ad.info()"
   ]
  },
  {
   "cell_type": "code",
   "execution_count": 23,
   "id": "5ef442cc",
   "metadata": {
    "scrolled": true
   },
   "outputs": [
    {
     "name": "stdout",
     "output_type": "stream",
     "text": [
      "<class 'pandas.core.frame.DataFrame'>\n",
      "RangeIndex: 596821 entries, 0 to 596820\n",
      "Data columns (total 7 columns):\n",
      " #   Column                             Non-Null Count   Dtype \n",
      "---  ------                             --------------   ----- \n",
      " 0   icb_ons_code                       596821 non-null  object\n",
      " 1   appointment_month                  596821 non-null  object\n",
      " 2   appointment_status                 596821 non-null  object\n",
      " 3   hcp_type                           596821 non-null  object\n",
      " 4   appointment_mode                   596821 non-null  object\n",
      " 5   time_between_book_and_appointment  596821 non-null  object\n",
      " 6   count_of_appointments              596821 non-null  int64 \n",
      "dtypes: int64(1), object(6)\n",
      "memory usage: 31.9+ MB\n"
     ]
    }
   ],
   "source": [
    "# Summary of DataFrame ar\n",
    "ar.info()"
   ]
  },
  {
   "cell_type": "code",
   "execution_count": 24,
   "id": "d5c8af7a",
   "metadata": {},
   "outputs": [
    {
     "name": "stdout",
     "output_type": "stream",
     "text": [
      "<class 'pandas.core.frame.DataFrame'>\n",
      "RangeIndex: 817394 entries, 0 to 817393\n",
      "Data columns (total 8 columns):\n",
      " #   Column                 Non-Null Count   Dtype         \n",
      "---  ------                 --------------   -----         \n",
      " 0   appointment_date       817394 non-null  datetime64[ns]\n",
      " 1   icb_ons_code           817394 non-null  object        \n",
      " 2   sub_icb_location_name  817394 non-null  object        \n",
      " 3   service_setting        817394 non-null  object        \n",
      " 4   context_type           817394 non-null  object        \n",
      " 5   national_category      817394 non-null  object        \n",
      " 6   count_of_appointments  817394 non-null  int64         \n",
      " 7   appointment_month      817394 non-null  object        \n",
      "dtypes: datetime64[ns](1), int64(1), object(6)\n",
      "memory usage: 49.9+ MB\n"
     ]
    }
   ],
   "source": [
    "# Summary of DataFrame nc\n",
    "nc.info()"
   ]
  },
  {
   "cell_type": "code",
   "execution_count": 12,
   "id": "7bf25972",
   "metadata": {},
   "outputs": [
    {
     "name": "stdout",
     "output_type": "stream",
     "text": [
      "137793\n"
     ]
    }
   ],
   "source": [
    "# No of records actual_duration ad.\n",
    "print(len(ad))"
   ]
  },
  {
   "cell_type": "code",
   "execution_count": 17,
   "id": "83a18fcb",
   "metadata": {},
   "outputs": [
    {
     "name": "stdout",
     "output_type": "stream",
     "text": [
      "596821\n"
     ]
    }
   ],
   "source": [
    "# No of records appointment_regional ar.\n",
    "print(len(ar))"
   ]
  },
  {
   "cell_type": "code",
   "execution_count": 18,
   "id": "f584b197",
   "metadata": {},
   "outputs": [
    {
     "name": "stdout",
     "output_type": "stream",
     "text": [
      "817394\n"
     ]
    }
   ],
   "source": [
    "# No of records national_categories nc.\n",
    "print(len(nc))"
   ]
  },
  {
   "cell_type": "code",
   "execution_count": 89,
   "id": "ddbf9e84",
   "metadata": {},
   "outputs": [
    {
     "name": "stdout",
     "output_type": "stream",
     "text": [
      "167980692\n"
     ]
    }
   ],
   "source": [
    "# Sum of appointments actual_duration ad.\n",
    "print(ad['count_of_appointments'].sum())"
   ]
  },
  {
   "cell_type": "code",
   "execution_count": 90,
   "id": "5e64ecd4",
   "metadata": {},
   "outputs": [
    {
     "name": "stdout",
     "output_type": "stream",
     "text": [
      "742804525\n"
     ]
    }
   ],
   "source": [
    "# Sum of appointments appointment_regional ar.\n",
    "print(ar['count_of_appointments'].sum())"
   ]
  },
  {
   "cell_type": "code",
   "execution_count": 91,
   "id": "e4e081f4",
   "metadata": {},
   "outputs": [
    {
     "name": "stdout",
     "output_type": "stream",
     "text": [
      "296046770\n"
     ]
    }
   ],
   "source": [
    "# Sum of appointments national_categories nc.\n",
    "print(nc['count_of_appointments'].sum())"
   ]
  },
  {
   "cell_type": "code",
   "execution_count": 9,
   "id": "192e6dfc",
   "metadata": {},
   "outputs": [
    {
     "data": {
      "text/plain": [
       "NHS Norfolk and Waveney ICB - 26A                       1484\n",
       "NHS Kent and Medway ICB - 91Q                           1484\n",
       "NHS North West London ICB - W2U3Z                       1484\n",
       "NHS Bedfordshire Luton and Milton Keynes ICB - M1J4Y    1484\n",
       "NHS Greater Manchester ICB - 14L                        1484\n",
       "                                                        ... \n",
       "NHS Staffordshire and Stoke-on-Trent ICB - 05D          1051\n",
       "NHS South Yorkshire ICB - 03L                           1028\n",
       "NHS North East and North Cumbria ICB - 00P              1025\n",
       "NHS South Yorkshire ICB - 02P                           1022\n",
       "NHS Cheshire and Merseyside ICB - 01F                   1013\n",
       "Name: sub_icb_location_name, Length: 106, dtype: int64"
      ]
     },
     "execution_count": 9,
     "metadata": {},
     "output_type": "execute_result"
    }
   ],
   "source": [
    "# Count locations - actual_duration ad\n",
    "ad['sub_icb_location_name'].value_counts()"
   ]
  },
  {
   "cell_type": "code",
   "execution_count": 79,
   "id": "47993674",
   "metadata": {},
   "outputs": [
    {
     "data": {
      "text/plain": [
       "E54000057    54527\n",
       "E54000008    48253\n",
       "E54000050    43774\n",
       "E54000048    36360\n",
       "E54000051    31069\n",
       "E54000010    27401\n",
       "E54000054    26960\n",
       "E54000061    23466\n",
       "E54000026    22342\n",
       "E54000044    19806\n",
       "E54000053    18510\n",
       "E54000025    16809\n",
       "E54000023    16326\n",
       "E54000015    15587\n",
       "E54000042    12057\n",
       "E54000060     9608\n",
       "E54000055     8206\n",
       "E54000029     7700\n",
       "E54000032     7615\n",
       "E54000062     7561\n",
       "E54000030     7462\n",
       "E54000037     7453\n",
       "E54000031     7324\n",
       "E54000027     7299\n",
       "E54000056     7178\n",
       "E54000039     6993\n",
       "E54000052     6921\n",
       "E54000058     6875\n",
       "E54000038     6813\n",
       "E54000036     6714\n",
       "E54000043     6707\n",
       "E54000022     6582\n",
       "E54000028     6579\n",
       "E54000018     6303\n",
       "E54000013     6061\n",
       "E54000019     6013\n",
       "E54000011     5996\n",
       "E54000034     5768\n",
       "E54000059     5759\n",
       "E54000024     5467\n",
       "E54000041     5345\n",
       "E54000040     5272\n",
       "Name: icb_ons_code, dtype: int64"
      ]
     },
     "execution_count": 79,
     "metadata": {},
     "output_type": "execute_result"
    }
   ],
   "source": [
    "# Count locations - appointment_regional ar.\n",
    "ar['icb_ons_code'].value_counts()"
   ]
  },
  {
   "cell_type": "code",
   "execution_count": 76,
   "id": "6bd02c46",
   "metadata": {
    "scrolled": true
   },
   "outputs": [
    {
     "data": {
      "text/plain": [
       "E54000057    12668\n",
       "E54000008    10636\n",
       "E54000050     9938\n",
       "E54000048     9808\n",
       "E54000051     7973\n",
       "E54000010     7208\n",
       "E54000054     6681\n",
       "E54000026     6653\n",
       "E54000061     4471\n",
       "E54000053     4339\n",
       "E54000015     4103\n",
       "E54000044     3930\n",
       "E54000025     3903\n",
       "E54000023     3893\n",
       "E54000060     2561\n",
       "E54000042     2513\n",
       "E54000032     1484\n",
       "E54000024     1484\n",
       "E54000029     1484\n",
       "E54000022     1484\n",
       "E54000027     1484\n",
       "E54000037     1483\n",
       "E54000062     1480\n",
       "E54000055     1477\n",
       "E54000056     1471\n",
       "E54000041     1454\n",
       "E54000013     1445\n",
       "E54000052     1443\n",
       "E54000028     1435\n",
       "E54000034     1421\n",
       "E54000036     1420\n",
       "E54000058     1395\n",
       "E54000059     1392\n",
       "E54000011     1385\n",
       "E54000039     1365\n",
       "E54000031     1359\n",
       "E54000030     1358\n",
       "E54000019     1311\n",
       "E54000043     1294\n",
       "E54000018     1258\n",
       "E54000040     1242\n",
       "E54000038     1207\n",
       "Name: icb_ons_code, dtype: int64"
      ]
     },
     "execution_count": 76,
     "metadata": {},
     "output_type": "execute_result"
    }
   ],
   "source": [
    "# Count locations - actual duration ad.\n",
    "ad['icb_ons_code'].value_counts()"
   ]
  },
  {
   "cell_type": "code",
   "execution_count": 77,
   "id": "f2531315",
   "metadata": {},
   "outputs": [
    {
     "data": {
      "text/plain": [
       "E54000057    59180\n",
       "E54000008    53744\n",
       "E54000050    53707\n",
       "E54000048    43381\n",
       "E54000054    42888\n",
       "E54000051    41402\n",
       "E54000010    34808\n",
       "E54000026    33309\n",
       "E54000061    27812\n",
       "E54000044    27539\n",
       "E54000015    27409\n",
       "E54000053    25835\n",
       "E54000025    25242\n",
       "E54000023    20632\n",
       "E54000042    17419\n",
       "E54000060    14473\n",
       "E54000027    13007\n",
       "E54000032    12637\n",
       "E54000037    12526\n",
       "E54000029    11837\n",
       "E54000055    11789\n",
       "E54000062    11776\n",
       "E54000022    11579\n",
       "E54000040    11545\n",
       "E54000031    10612\n",
       "E54000030    10527\n",
       "E54000041    10516\n",
       "E54000058    10473\n",
       "E54000056    10086\n",
       "E54000052     9994\n",
       "E54000018     9895\n",
       "E54000043     9864\n",
       "E54000028     9860\n",
       "E54000039     9673\n",
       "E54000024     9490\n",
       "E54000019     9348\n",
       "E54000036     9238\n",
       "E54000059     9148\n",
       "E54000034     8844\n",
       "E54000038     8219\n",
       "E54000013     8070\n",
       "E54000011     8061\n",
       "Name: icb_ons_code, dtype: int64"
      ]
     },
     "execution_count": 77,
     "metadata": {},
     "output_type": "execute_result"
    }
   ],
   "source": [
    "# Count locations - national categories nc.\n",
    "nc['icb_ons_code'].value_counts()"
   ]
  },
  {
   "cell_type": "code",
   "execution_count": 20,
   "id": "6732ceef",
   "metadata": {},
   "outputs": [
    {
     "data": {
      "text/plain": [
       "NHS North West London ICB - W2U3Z              13007\n",
       "NHS Kent and Medway ICB - 91Q                  12637\n",
       "NHS Devon ICB - 15N                            12526\n",
       "NHS Hampshire and Isle Of Wight ICB - D9Y0V    12171\n",
       "NHS North East London ICB - A3A8R              11837\n",
       "                                               ...  \n",
       "NHS North East and North Cumbria ICB - 00N      4210\n",
       "NHS Lancashire and South Cumbria ICB - 02G      4169\n",
       "NHS Cheshire and Merseyside ICB - 01V           3496\n",
       "NHS Cheshire and Merseyside ICB - 01T           3242\n",
       "NHS Greater Manchester ICB - 00V                2170\n",
       "Name: sub_icb_location_name, Length: 106, dtype: int64"
      ]
     },
     "execution_count": 20,
     "metadata": {},
     "output_type": "execute_result"
    }
   ],
   "source": [
    "# Count locations - national_categories nc. \n",
    "nc['sub_icb_location_name'].value_counts()"
   ]
  },
  {
   "cell_type": "code",
   "execution_count": 15,
   "id": "ed132d48",
   "metadata": {
    "scrolled": true
   },
   "outputs": [
    {
     "name": "stdout",
     "output_type": "stream",
     "text": [
      "NHS Greater Manchester ICB - 14L                  1484\n",
      "NHS North East London ICB - A3A8R                 1484\n",
      "NHS Norfolk and Waveney ICB - 26A                 1484\n",
      "NHS Kent and Medway ICB - 91Q                     1484\n",
      "NHS North West London ICB - W2U3Z                 1484\n",
      "                                                  ... \n",
      "NHS Staffordshire and Stoke-on-Trent ICB - 05D    1051\n",
      "NHS South Yorkshire ICB - 03L                     1028\n",
      "NHS North East and North Cumbria ICB - 00P        1025\n",
      "NHS South Yorkshire ICB - 02P                     1022\n",
      "NHS Cheshire and Merseyside ICB - 01F             1013\n",
      "Name: sub_icb_location_name, Length: 106, dtype: int64\n"
     ]
    }
   ],
   "source": [
    "# Categorical count. \n",
    "def cat_cnt(df1):\n",
    "    print(df1.value_counts())\n",
    "\n",
    "# Number of appointments per location.\n",
    "df = ad['sub_icb_location_name'].astype('category')\n",
    "\n",
    "# View the output.\n",
    "cat_cnt(df)"
   ]
  },
  {
   "cell_type": "code",
   "execution_count": 44,
   "id": "eaf5474a",
   "metadata": {},
   "outputs": [
    {
     "name": "stdout",
     "output_type": "stream",
     "text": [
      "106\n"
     ]
    }
   ],
   "source": [
    "# Create Location_name set - ad\n",
    "location_set_ad = set(ad['sub_icb_location_name'])\n",
    "\n",
    "# Count the set\n",
    "print(len(location_set_ad))"
   ]
  },
  {
   "cell_type": "code",
   "execution_count": 45,
   "id": "6cb680a2",
   "metadata": {},
   "outputs": [
    {
     "name": "stdout",
     "output_type": "stream",
     "text": [
      "106\n"
     ]
    }
   ],
   "source": [
    "# Create Location_code set - ad\n",
    "Region_set_ad = set(ad['sub_icb_location_code'])\n",
    "\n",
    "# Count the set\n",
    "print(len(Region_set_ad))"
   ]
  },
  {
   "cell_type": "code",
   "execution_count": 66,
   "id": "2fb55766",
   "metadata": {},
   "outputs": [
    {
     "name": "stdout",
     "output_type": "stream",
     "text": [
      "42\n"
     ]
    }
   ],
   "source": [
    "#ar. no of regions\n",
    "\n",
    "# Create Location_code set - ar\n",
    "location_set_ar = set(ar['icb_ons_code'])\n",
    "\n",
    "# Count the set\n",
    "print(len(location_set_ar))"
   ]
  },
  {
   "cell_type": "code",
   "execution_count": 72,
   "id": "0c6a22bc",
   "metadata": {},
   "outputs": [
    {
     "name": "stdout",
     "output_type": "stream",
     "text": [
      "42\n"
     ]
    }
   ],
   "source": [
    "#nc. no of regions\n",
    "\n",
    "# Create Location_code set - nc\n",
    "region_set_nc = set(nc['icb_ons_code'])\n",
    "\n",
    "# Count the set\n",
    "print(len(region_set_nc))"
   ]
  },
  {
   "cell_type": "code",
   "execution_count": 73,
   "id": "7c753642",
   "metadata": {},
   "outputs": [
    {
     "name": "stdout",
     "output_type": "stream",
     "text": [
      "106\n"
     ]
    }
   ],
   "source": [
    "#nc. no of locations\n",
    "\n",
    "# Create Location_code set - nc\n",
    "region_location_nc = set(nc['sub_icb_location_name'])\n",
    "\n",
    "# Count the set\n",
    "print(len(region_location_nc))"
   ]
  },
  {
   "cell_type": "code",
   "execution_count": null,
   "id": "d36a21e9",
   "metadata": {},
   "outputs": [],
   "source": [
    "#nc. no of regions\n",
    "\n",
    "# Create Location_code set - ad\n",
    "region_set_nc = set(nc['icb_ons_code'])\n",
    "\n",
    "# Count the set\n",
    "print(len(region_set_nc))"
   ]
  },
  {
   "cell_type": "code",
   "execution_count": 71,
   "id": "5ec4df62",
   "metadata": {},
   "outputs": [
    {
     "data": {
      "text/plain": [
       "{'Care Related Encounter', 'Inconsistent Mapping', 'Unmapped'}"
      ]
     },
     "execution_count": 71,
     "metadata": {},
     "output_type": "execute_result"
    }
   ],
   "source": [
    "#nc. no of context_type\n",
    "\n",
    "# Create Location_code set - ad\n",
    "context_type_nc = set(nc['context_type'])\n",
    "\n",
    "#View the set\n",
    "context_type_nc"
   ]
  },
  {
   "cell_type": "code",
   "execution_count": 61,
   "id": "89a40a83",
   "metadata": {},
   "outputs": [
    {
     "data": {
      "text/plain": [
       "{'Extended Access Provision',\n",
       " 'General Practice',\n",
       " 'Other',\n",
       " 'Primary Care Network',\n",
       " 'Unmapped'}"
      ]
     },
     "execution_count": 61,
     "metadata": {},
     "output_type": "execute_result"
    }
   ],
   "source": [
    "#nc. no of service_setting\n",
    "\n",
    "# Create Location_code set - ad\n",
    "service_setting_nc = set(nc['service_setting'])\n",
    "\n",
    "#View the set\n",
    "service_setting_nc"
   ]
  },
  {
   "cell_type": "code",
   "execution_count": 64,
   "id": "2fe732e2",
   "metadata": {},
   "outputs": [
    {
     "data": {
      "text/plain": [
       "{'Care Home Needs Assessment & Personalised Care and Support Planning',\n",
       " 'Care Home Visit',\n",
       " 'Clinical Triage',\n",
       " 'General Consultation Acute',\n",
       " 'General Consultation Routine',\n",
       " 'Group Consultation and Group Education',\n",
       " 'Home Visit',\n",
       " 'Inconsistent Mapping',\n",
       " 'Non-contractual chargeable work',\n",
       " 'Patient contact during Care Home Round',\n",
       " 'Planned Clinical Procedure',\n",
       " 'Planned Clinics',\n",
       " 'Service provided by organisation external to the practice',\n",
       " 'Social Prescribing Service',\n",
       " 'Structured Medication Review',\n",
       " 'Unmapped',\n",
       " 'Unplanned Clinical Activity',\n",
       " 'Walk-in'}"
      ]
     },
     "execution_count": 64,
     "metadata": {},
     "output_type": "execute_result"
    }
   ],
   "source": [
    "#nc. no national_category\n",
    "\n",
    "# Create Location_code set - ad\n",
    "national_category_nc = set(nc['national_category'])\n",
    "\n",
    "#View the set\n",
    "national_category_nc\n",
    "\n"
   ]
  },
  {
   "cell_type": "code",
   "execution_count": 65,
   "id": "07dd09b7",
   "metadata": {},
   "outputs": [
    {
     "data": {
      "text/plain": [
       "18"
      ]
     },
     "execution_count": 65,
     "metadata": {},
     "output_type": "execute_result"
    }
   ],
   "source": [
    "# Count the set\n",
    "len(national_category_nc)"
   ]
  },
  {
   "cell_type": "code",
   "execution_count": null,
   "id": "3567aa36",
   "metadata": {},
   "outputs": [],
   "source": []
  }
 ],
 "metadata": {
  "kernelspec": {
   "display_name": "Python 3 (ipykernel)",
   "language": "python",
   "name": "python3"
  },
  "language_info": {
   "codemirror_mode": {
    "name": "ipython",
    "version": 3
   },
   "file_extension": ".py",
   "mimetype": "text/x-python",
   "name": "python",
   "nbconvert_exporter": "python",
   "pygments_lexer": "ipython3",
   "version": "3.9.12"
  }
 },
 "nbformat": 4,
 "nbformat_minor": 5
}
